{
 "metadata": {
  "name": "",
  "signature": "sha256:fa3d23aeac2ddae6fa75008852f8f6ee45251264378f3e2763f12e3d86e44211"
 },
 "nbformat": 3,
 "nbformat_minor": 0,
 "worksheets": [
  {
   "cells": [
    {
     "cell_type": "markdown",
     "metadata": {},
     "source": [
      "#Is your neighborhood bar or liquor store causing problems?\n"
     ]
    },
    {
     "cell_type": "code",
     "collapsed": false,
     "input": [
      "from IPython.core.display import Image \n",
      "Image(url='http://bit.ly/1k829RO')"
     ],
     "language": "python",
     "metadata": {},
     "outputs": [
      {
       "html": [
        "<img src=\"http://bit.ly/1k829RO\"/>"
       ],
       "metadata": {},
       "output_type": "pyout",
       "prompt_number": 3,
       "text": [
        "<IPython.core.display.Image at 0x35e3110>"
       ]
      }
     ],
     "prompt_number": 3
    },
    {
     "cell_type": "markdown",
     "metadata": {},
     "source": [
      "Catherine Benton-Jones (center) and Diane Corbett (right) tried, unsuccessfully, to protest the renewal of a liquor license for a store they say hurts their neighborhood. (Photo by: Fern Shen)\n",
      "\n",
      "Under the provisions of Article 2-B 10-301(a), communities wishing to protest a renewal need to come up with signatures from 10 or more residents from the nearby area. But recent proceedings made clear that citizens had also better show up with more than anecdotal accounts of their woes.\n",
      "\n",
      "### Your job is to support these good ladies by supplying them with data visualization (charts, tables, graphs...) that show\n",
      "\n",
      "1. Communities that qualify for partial moratorium. This is calculated every 5 years (last one in 2011) and currently only Encinitas, El Cajon and Escondido have one. A moratorium is a ban on the issuance of off-sale and wine licenses (Type 20) where the ratio of Type 20 licenses exceeds one for each 2,500 inhabitants. \n",
      "\n",
      "2. High counts of \"DISORDERLY CONDUCT: ALCOHOL\" and \"USE/UNDER INFLUENCE OF CONTROLLED SUBSTANCE\" crimes close to locations with alcohol permits. These crimes are coded under the description column for the crime dataset.\n",
      "\n",
      "3. Think of the children! -- same as above for \"MINOR POSSESS ALCOHOL\".\n",
      "\n",
      "#### Get the data from: \n",
      "\n",
      "* [San Diego County Alcohol Permits](http://data.sandiegodata.org/dataset/clarinova_com-alcohol_licenses-casnd-429e-extract)\n",
      "* [San Diego Region Crime Incidents 2007 - 2013](http://data.sandiegodata.org/dataset/clarinova_com-crime-incidents-casnd-7ba4-extract)\n",
      "* [Weekly Crime notebook](http://notebooks.sandiegodata.org/localfile/crime/explorations/Crime%20Weekly%20Rythym%20Maps.ipynb)"
     ]
    }
   ],
   "metadata": {}
  }
 ]
}