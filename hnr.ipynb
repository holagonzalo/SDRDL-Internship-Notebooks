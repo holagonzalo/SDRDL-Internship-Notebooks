{
 "metadata": {
  "name": "",
  "signature": "sha256:b6179ea2d5e53a62a939ad75c3707f72711c31dae20ed6cf2634b70daa5ef6f8"
 },
 "nbformat": 3,
 "nbformat_minor": 0,
 "worksheets": [
  {
   "cells": [
    {
     "cell_type": "markdown",
     "metadata": {},
     "source": [
      "#Hit and Run Cases from the San Diego District Attorney's Office\n",
      "\n",
      "Exploring the time range for the sentences imposed to answer the question: if you hit a person, and drive away, what\u2019s the most likely sentence you\u2019ll face?"
     ]
    },
    {
     "cell_type": "code",
     "collapsed": false,
     "input": [
      "%matplotlib inline\n",
      "import numpy as np\n",
      "import matplotlib as mpl\n",
      "import pandas as pd\n",
      "\n",
      "df = pd.read_csv('hnr0914.csv')\n",
      "print \"Total number of cases =\",len(df.index)\n",
      "print \"Between the years\",df.complaint_year.min(), \"and\", df.complaint_year.max()"
     ],
     "language": "python",
     "metadata": {},
     "outputs": [
      {
       "output_type": "stream",
       "stream": "stdout",
       "text": [
        "Total number of cases = 804\n",
        "Between the years 2009.0 and 2014.0\n"
       ]
      }
     ],
     "prompt_number": 275
    },
    {
     "cell_type": "code",
     "collapsed": false,
     "input": [
      "#what are the final dispositions?\n",
      "df['final_disposition'] = df['final_disposition'].str.replace(',', '') #removing commas from strings for clarity\n",
      "df.final_disposition.unique()"
     ],
     "language": "python",
     "metadata": {},
     "outputs": [
      {
       "metadata": {},
       "output_type": "pyout",
       "prompt_number": 243,
       "text": [
        "array([Pled Guilty Felony, Found Guilty Felony,\n",
        "       Pled Guilty Misdemeanor - Immediate Sentencing, No sentence yet,\n",
        "       Pled Guilty Misdemeanor, Dismissed Other (see note),\n",
        "       Dismissed (Issued by Other Jurisdiction),\n",
        "       Pled No Contest Infraction - Immediate Sentencing,\n",
        "       Dismissed (IFJ / IOE), Found Guilty Misdemeanor,\n",
        "       Dismissed by Court (PC 1118.1),\n",
        "       Pled Guilty Infraction - Immediate Sentencing,\n",
        "       Pled Guilty Misdemeanor After Jury Sworn, Found Not Guilty,\n",
        "       Dismissed - Defendant Deceased], dtype=object)"
       ]
      }
     ],
     "prompt_number": 243
    },
    {
     "cell_type": "code",
     "collapsed": false,
     "input": [
      "df.final_disposition = df.final_disposition.fillna(\"No sentence yet\") #blanks in final disposition are pending\n",
      "dismissed = df['final_disposition'].str.contains(\"Dismissed\")\n",
      "nosentence = df['final_disposition'].str.contains(\"No sentence yet\")\n",
      "nocontest = df['final_disposition'].str.contains(\"No Contest Infraction\")\n",
      "\n",
      "#Pled Guilty\n",
      "pleadguilty = df['final_disposition'].str.contains(\"Pled Guilty\")\n",
      "pleadguilty_inf = df['final_disposition'].str.contains(\"Pled Guilty Infraction\")\n",
      "pleadguilty_mis = df['final_disposition'].str.contains(\"Pled Guilty Misdemeanor\")\n",
      "pleadguilty_fel = df['final_disposition'].str.contains(\"Pled Guilty Felony\")\n",
      "\n",
      "#Pled Not Guilty\n",
      "pleadnotguilty = df['final_disposition'].str.contains(\"Found\")\n",
      "notguilty =  df['final_disposition'].str.contains(\"Found Not Guilty\")\n",
      "guilty =  df['final_disposition'].str.contains(\"Found Guilty\")\n",
      "guilty_mis = df['final_disposition'].str.contains(\"Found Guilty Misdemeanor\")\n",
      "guilty_fel = df['final_disposition'].str.contains(\"Found Guilty Felony\")\n",
      "\n",
      "hnrsentences=notguilty.sum()+pleadnotguilty.sum()+pleadguilty.sum()\n",
      "\n",
      "print \"Final Disposition: The final settlement of a criminal case.\"\n",
      "print \"-----------------------------------------------------------\"\n",
      "print \"Number of hit & runs sentenced =\", hnrsentences\n",
      "print \"Number of sentences pending (in development, warrant...) =\", nosentence.sum()\n",
      "print \"Number of cases dismissed =\", dismissed.sum()\n",
      "print \"\"\n",
      "print \"Number of defendants who pleaded:\"\n",
      "print \"\"\n",
      "print \"\u00b7 Guilty (plea bargain) =\", pleadguilty.sum()\n",
      "print \"    to an infraction =\", pleadguilty_inf.sum()\n",
      "print \"    to a misdemeanor =\", pleadguilty_mis.sum()\n",
      "print \"    to a felony =\", pleadguilty_fel.sum()\n",
      "print \"\"\n",
      "print \"\u00b7 No contest (plea bargain)\" \n",
      "print \"    to an infraction =\", nocontest.sum()\n",
      "print \"\"\n",
      "print \"\u00b7 Not guilty =\", pleadnotguilty.sum()\n",
      "print \"    and were found guilty =\", guilty.sum()\n",
      "print \"        of a misdemeanor =\", guilty_mis.sum()\n",
      "print \"        of a felony =\", guilty_fel.sum()\n",
      "print \"    and were found not guilty =\", notguilty.sum()"
     ],
     "language": "python",
     "metadata": {},
     "outputs": [
      {
       "output_type": "stream",
       "stream": "stdout",
       "text": [
        "Final Disposition: The final settlement of a criminal case.\n",
        "-----------------------------------------------------------\n",
        "Number of hit & runs sentenced = 707\n",
        "Number of sentences pending (in development, warrant...) = 70\n",
        "Number of cases dismissed = 27\n",
        "\n",
        "Number of defendants who pleaded:\n",
        "\n",
        "\u00b7 Guilty (plea bargain) = 689\n",
        "    to an infraction = 2\n",
        "    to a misdemeanor = 204\n",
        "    to a felony = 483\n",
        "\n",
        "\u00b7 No contest (plea bargain)\n",
        "    to an infraction = 1\n",
        "\n",
        "\u00b7 Not guilty = 17\n",
        "    and were found guilty = 16\n",
        "        of a misdemeanor = 1\n",
        "        of a felony = 15\n",
        "    and were found not guilty = 1\n"
       ]
      }
     ],
     "prompt_number": 239
    },
    {
     "cell_type": "code",
     "collapsed": false,
     "input": [
      "from pylab import *\n",
      "figure(2, figsize=(4,4))\n",
      "axes([0.1, 0.1, 0.8, 0.8])\n",
      "fracs=[68, 28, 2, 2]\n",
      "mycolors=['blue', 'green', 'red', 'yellow']\n",
      "mylabels=['Plea Bargain:Felony=68%', 'Plea Bargain:Misdemeanor=28%', 'Found Guilt:Felony=2%', 'Others=2%']\n",
      "pie(fracs,labels=mylabels,colors=mycolors)\n",
      "show()"
     ],
     "language": "python",
     "metadata": {},
     "outputs": [
      {
       "metadata": {},
       "output_type": "display_data",
       "png": "[encoded data removed]",
       "text": [
        "<matplotlib.figure.Figure at 0x10398cfd0>"
       ]
      }
     ],
     "prompt_number": 276
    },
    {
     "cell_type": "markdown",
     "metadata": {},
     "source": [
      "#Punishments by Final Disposition: Type and Length "
     ]
    },
    {
     "cell_type": "code",
     "collapsed": false,
     "input": [
      "print \"Breakdown of Avg Time Served of\",100*pleadguilty_mis.sum()/hnrsentences+100*pleadguilty_fel.sum()/hnrsentences+100*guilty_fel.sum()/hnrsentences,\"% of all hit and run sentences\"\n",
      "print \"\"\n",
      "print \"Plead Guilty to Felony =\",100*pleadguilty_fel.sum()/hnrsentences,\"% of all sentences\" \n",
      "print \"------------------------------------------\"\n",
      "print \"Avg time in incarceration:\", df[pleadguilty_fel].incar.mean()/30.4, \"months\"\n",
      "print \"Avg time in probation:\", df[pleadguilty_fel].prob.mean()/30.4, \"months\"\n",
      "print \"Avg time in work:\", df[pleadguilty_fel].work.mean()/30.4, \"months\"\n",
      "print \"Avg time in program:\", df[pleadguilty_fel].prog.mean()/30.4, \"months\"\n",
      "print \"\"\n",
      "print \"Plead Guilty to Misdemeanor =\",100*pleadguilty_mis.sum()/hnrsentences,\"% of all sentences\"\n",
      "print \"------------------------------------------\"\n",
      "print \"Avg time in incarceration:\", df[pleadguilty_mis].incar.mean()/30.4, \"months\"\n",
      "print \"Avg time in probation:\", df[pleadguilty_mis].prob.mean()/30.4, \"months\"\n",
      "print \"Avg time in work:\", df[pleadguilty_mis].work.mean()/30.4, \"months\"\n",
      "print \"Avg time in program:\", df[pleadguilty_mis].prog.mean()/30.4, \"months\" \n",
      "print \"\"\n",
      "print \"Found Guilty of Felony =\",100*guilty_fel.sum()/hnrsentences,\"% of all sentences\" \n",
      "print \"------------------------------------------\"\n",
      "print \"Avg time in incarceration:\", df[guilty_fel].incar.mean()/30.4, \"months\"\n",
      "print \"Avg time in probation:\", df[guilty_fel].prob.mean()/30.4, \"months\"\n",
      "print \"Avg time in work:\", df[guilty_fel].work.mean()/30.4, \"months\"\n",
      "print \"Avg time in program:\", df[guilty_fel].prog.mean()/30.4, \"months\""
     ],
     "language": "python",
     "metadata": {},
     "outputs": [
      {
       "output_type": "stream",
       "stream": "stdout",
       "text": [
        "Breakdown of Avg Time Served of 98 % of all hit and run sentences\n",
        "\n",
        "Plead Guilty to Felony = 68 % of all sentences\n",
        "------------------------------------------\n",
        "Avg time in incarceration: 23.7220795892 months\n",
        "Avg time in probation: 49.0148321777 months\n",
        "Avg time in work: 2.42173321234 months\n",
        "Avg time in program: 12.0065789474 months\n",
        "\n",
        "Plead Guilty to Misdemeanor = 28 % of all sentences\n",
        "------------------------------------------\n",
        "Avg time in incarceration: 1.99765037594 months\n",
        "Avg time in probation: 45.9328609987 months\n",
        "Avg time in work: 0.295055821372 months\n",
        "Avg time in program: nan months\n",
        "\n",
        "Found Guilty of Felony = 2 % of all sentences\n",
        "------------------------------------------\n",
        "Avg time in incarceration: 115.338345865 months\n",
        "Avg time in probation: 52.0285087719 months\n",
        "Avg time in work: 0.0 months\n",
        "Avg time in program: nan months\n"
       ]
      }
     ],
     "prompt_number": 250
    },
    {
     "cell_type": "markdown",
     "metadata": {},
     "source": [
      "### Should the defendant take a plea bargain?\n",
      "Only 2% didn't. Let's see how that worked out for them in comparison to those who did."
     ]
    },
    {
     "cell_type": "code",
     "collapsed": false,
     "input": [
      "N = 3\n",
      "#('PledMis', 'PledFel', 'FoundFel')\n",
      "Incarceration   = np.array([115.3,23.7, 1.99] )   \n",
      "Probation   = np.array([52.0, 45.0, 45.9])   \n",
      "Work   = np.array([0, 2.4, 0.3])   \n",
      "Program   = np.array([0, 12, 0])   \n",
      "\n",
      "ind = np.arange(N)    # the x locations for the groups\n",
      "width = 0.5           # the width of the bars: can also be len(x) sequence\n",
      "p1 = plt.bar(ind, Incarceration, width, color='r')\n",
      "p2 = plt.bar(ind, Probation, width, color='y',bottom=Incarceration)\n",
      "p3 = plt.bar(ind, Work, width, color='b',bottom= Probation+Incarceration)\n",
      "p4 = plt.bar(ind, Program, width, color='g',bottom=Work+Probation+Incarceration)\n",
      "\n",
      "plt.ylabel('Time (months)')\n",
      "plt.title('Plead Not-Guilty vs Plead Guilty (Plea Bargain)')\n",
      "\n",
      "plt.xticks(ind+width/2, ('Found Guilty:Felony', 'Plead Guilty:Felony', 'Plead Guilty:Misdem.' ) )\n",
      "plt.yticks(np.arange(10,200,10))\n",
      "plt.legend ((p1[0], p2[0], p3[0], p4[0]), ('Incarceration', 'Probation','Work','Program' ))"
     ],
     "language": "python",
     "metadata": {},
     "outputs": [
      {
       "metadata": {},
       "output_type": "pyout",
       "prompt_number": 241,
       "text": [
        "<matplotlib.legend.Legend at 0x108d8f990>"
       ]
      },
      {
       "metadata": {},
       "output_type": "display_data",
       "png": "[encoded data removed]",
       "text": [
        "<matplotlib.figure.Figure at 0x10368dfd0>"
       ]
      }
     ],
     "prompt_number": 241
    },
    {
     "cell_type": "markdown",
     "metadata": {},
     "source": [
      "On the first bar, \"Found Guilty: Felony\", we see the defendants who pleaded not guilty and subsequently were found guilty of a felony. These cases usually take longer in court, and we can see that the jury/judge gives them an incarceration time 4x greater than those who took the plea bargain to felony (2nd bar).\n",
      "\n",
      "Take the plea bargain! Out of the 17 cases where the defendant plead non-guilty, 15 where found guilty of a felony."
     ]
    },
    {
     "cell_type": "code",
     "collapsed": false,
     "input": [
      "N = 2\n",
      "Incarceration   = np.array([23.7,1.99] )   \n",
      "Probation   = np.array([ 45.0,45.9])   \n",
      "Work   = np.array([ 2.4,0.3])   \n",
      "Program   = np.array([ 12,0])   \n",
      "\n",
      "ind = np.arange(N)    # the x locations for the groups\n",
      "width = 0.5           # the width of the bars: can also be len(x) sequence\n",
      "p1 = plt.bar(ind, Incarceration, width, color='r')\n",
      "p2 = plt.bar(ind, Probation, width, color='y',bottom=Incarceration)\n",
      "p3 = plt.bar(ind, Work, width, color='b',bottom= Probation+Incarceration)\n",
      "p4 = plt.bar(ind, Program, width, color='g',bottom=Work+Probation+Incarceration)\n",
      "\n",
      "plt.ylabel('Time (Months)')\n",
      "plt.title('Plea Bargains = 96% of sentenced HnR')\n",
      "\n",
      "plt.xticks(ind+width/2, ('Plead Guilty: Felony', 'Plead Guilty: Misdemeanor' ) )\n",
      "plt.yticks(np.arange(0,100,5))\n",
      "plt.legend ((p1[0], p2[0], p3[0], p4[0]), ('Incarceration', 'Probation','Work','Program' ))"
     ],
     "language": "python",
     "metadata": {},
     "outputs": [
      {
       "metadata": {},
       "output_type": "pyout",
       "prompt_number": 240,
       "text": [
        "<matplotlib.legend.Legend at 0x1036a8a90>"
       ]
      },
      {
       "metadata": {},
       "output_type": "display_data",
       "png": "[encoded data removed]",
       "text": [
        "<matplotlib.figure.Figure at 0x108cdfa50>"
       ]
      }
     ],
     "prompt_number": 240
    },
    {
     "cell_type": "markdown",
     "metadata": {},
     "source": [
      "#Districts: Is justice served equally?\n",
      "\n",
      "Exploring the type and length of punishments among the four districts.\n"
     ]
    },
    {
     "cell_type": "code",
     "collapsed": false,
     "input": [
      "df.district.unique()"
     ],
     "language": "python",
     "metadata": {},
     "outputs": [
      {
       "metadata": {},
       "output_type": "pyout",
       "prompt_number": 153,
       "text": [
        "array([Central, East County, North County, South County], dtype=object)"
       ]
      }
     ],
     "prompt_number": 153
    },
    {
     "cell_type": "code",
     "collapsed": false,
     "input": [
      "#distric filters\n",
      "central=df[(df.district == \"Central\")]\n",
      "east=df[(df.district == \"East County\")]\n",
      "north=df[(df.district == \"North County\")]\n",
      "south=df[(df.district == \"South County\")]\n",
      "\n",
      "print \"Plead Guilty to Felony\" \n",
      "print \"----------------------\"\n",
      "print \"Central: Avg incarceration time:\", central[pleadguilty_fel].incar.mean()/30.4, \"months. Number of cases =\",central[pleadguilty_fel].incar.count() \n",
      "print \"East:    Avg incarceration time:\", east[pleadguilty_fel].incar.mean()/30.4, \"months. Number of cases =\",east[pleadguilty_fel].incar.count() \n",
      "print \"North:   Avg incarceration time:\", north[pleadguilty_fel].incar.mean()/30.4, \"months. Number of cases =\",north[pleadguilty_fel].incar.count() \n",
      "print \"South:   Avg incarceration time:\", south[pleadguilty_fel].incar.mean()/30.4, \"months. Number of cases =\",south[pleadguilty_fel].incar.count() \n",
      "print \"Total:   Avg incarceration time:\", df[pleadguilty_fel].incar.mean()/30.4, \"months. Number of cases =\",df[pleadguilty_fel].incar.count() \n",
      "print \"\"\n",
      "print \"Plead Guilty to Misdemeanor\"\n",
      "print \"---------------------------\"\n",
      "print \"Central: Avg incarceration time:\", central[pleadguilty_mis].incar.mean()/30.4, \"months. Number of cases =\",central[pleadguilty_mis].incar.count()\n",
      "print \"East:    Avg incarceration time:\", east[pleadguilty_mis].incar.mean()/30.4, \"months. Number of cases =\",east[pleadguilty_mis].incar.count()\n",
      "print \"North:   Avg incarceration time:\", north[pleadguilty_mis].incar.mean()/30.4, \"months. Number of cases =\",north[pleadguilty_mis].incar.count()\n",
      "print \"South:   Avg incarceration time:\", south[pleadguilty_mis].incar.mean()/30.4, \"months. Number of cases =\",south[pleadguilty_mis].incar.count()\n",
      "print \"Total:   Avg incarceration time:\", df[pleadguilty_mis].incar.mean()/30.4, \"months. Number of cases =\",df[pleadguilty_mis].incar.count() "
     ],
     "language": "python",
     "metadata": {},
     "outputs": [
      {
       "output_type": "stream",
       "stream": "stdout",
       "text": [
        "Plead Guilty to Felony\n",
        "----------------------\n",
        "Central: Avg incarceration time: 24.8947368421 months. Number of cases = 130\n",
        "East:    Avg incarceration time: 25.7098684211 months. Number of cases = 50\n",
        "North:   Avg incarceration time: 22.3800438596 months. Number of cases = 150\n",
        "South:   Avg incarceration time: 23.0904605263 months. Number of cases = 80\n",
        "Total:   Avg incarceration time: 23.7220795892 months. Number of cases = 410\n",
        "\n",
        "Plead Guilty to Misdemeanor\n",
        "---------------------------\n",
        "Central: Avg incarceration time: 1.40977443609 months. Number of cases = 7\n",
        "East:    Avg incarceration time: 6.11019736842 months. Number of cases = 4\n",
        "North:   Avg incarceration time: 1.7373294347 months. Number of cases = 54\n",
        "South:   Avg incarceration time: 2.34210526316 months. Number of cases = 5\n",
        "Total:   Avg incarceration time: 1.99765037594 months. Number of cases = 70\n"
       ]
      }
     ],
     "prompt_number": 272
    },
    {
     "cell_type": "markdown",
     "metadata": {},
     "source": [
      "Upon observation, incarceration time does not seem unequal accross the 4 districts."
     ]
    },
    {
     "cell_type": "code",
     "collapsed": false,
     "input": [],
     "language": "python",
     "metadata": {},
     "outputs": []
    }
   ],
   "metadata": {}
  }
 ]
}