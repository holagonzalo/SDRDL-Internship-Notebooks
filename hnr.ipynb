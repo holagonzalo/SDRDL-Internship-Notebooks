{
 "metadata": {
  "name": "",
  "signature": "sha256:6508df324d0d7e99982312ea574a3ee646f24e01a6d03372d00a6c85b5850d77"
 },
 "nbformat": 3,
 "nbformat_minor": 0,
 "worksheets": [
  {
   "cells": [
    {
     "cell_type": "markdown",
     "metadata": {},
     "source": [
      "#Hit and Run felonies from the San Diego District Attorney's office\n",
      "\n",
      "My question to the District Attorney was pretty straightforward: How have these cases been handled? I asked for all the felony hit-and-runs that the San Diego County DA received for the last 5 years, as well as the sentencing information.\n",
      "\n",
      "One challenge is trying to find a time range for the sentences imposed. For example, if I have ten sentences that range from \u201cProbation 3 years\u201d and \u201cState Prison 15 years,\u201d and the sentences range between the two, how would I find a simple way to answer the question: If you hit a person, and drive away, what\u2019s the most likely sentence you\u2019ll face?"
     ]
    },
    {
     "cell_type": "code",
     "collapsed": false,
     "input": [
      "%matplotlib inline\n",
      "import numpy as np\n",
      "import matplotlib.pyplot as plt\n",
      "import pandas as pd\n",
      "print 'Pandas version ' + pd.__version__"
     ],
     "language": "python",
     "metadata": {},
     "outputs": [
      {
       "output_type": "stream",
       "stream": "stdout",
       "text": [
        "Pandas version 0.13.1\n"
       ]
      }
     ],
     "prompt_number": 8
    },
    {
     "cell_type": "code",
     "collapsed": false,
     "input": [
      "df = pd.read_csv('hnr0914.csv')"
     ],
     "language": "python",
     "metadata": {},
     "outputs": [],
     "prompt_number": 9
    },
    {
     "cell_type": "code",
     "collapsed": false,
     "input": [
      "#Exploring the data set\n",
      "df.info()"
     ],
     "language": "python",
     "metadata": {},
     "outputs": [
      {
       "output_type": "stream",
       "stream": "stdout",
       "text": [
        "<class 'pandas.core.frame.DataFrame'>\n",
        "Int64Index: 804 entries, 0 to 803\n",
        "Data columns (total 34 columns):\n",
        "id                      804 non-null int64\n",
        "division                804 non-null object\n",
        "district                804 non-null object\n",
        "highest_dispo_charge    804 non-null object\n",
        "last_event_result       804 non-null object\n",
        "number                  804 non-null object\n",
        "highest_charge          804 non-null object\n",
        "highest_charge_mod      804 non-null object\n",
        "complaint_year          804 non-null float64\n",
        "next_pending_event      62 non-null object\n",
        "offense_date            804 non-null object\n",
        "sentencing              692 non-null object\n",
        "final_disposition       804 non-null object\n",
        "unit                    804 non-null object\n",
        "event_of_final_dispo    734 non-null object\n",
        "drug                    13 non-null float64\n",
        "drug_patient            1 non-null float64\n",
        "drug_res                12 non-null float64\n",
        "full                    1 non-null float64\n",
        "incar                   495 non-null float64\n",
        "incar_county            4 non-null float64\n",
        "incar_life              3 non-null float64\n",
        "incar_prison            151 non-null float64\n",
        "incr_local              0 non-null float64\n",
        "prob                    533 non-null float64\n",
        "prob_formal             317 non-null float64\n",
        "prob_sum                217 non-null float64\n",
        "prog                    3 non-null float64\n",
        "prog_child              1 non-null float64\n",
        "prog_dv                 2 non-null float64\n",
        "work                    126 non-null float64\n",
        "work_furl               17 non-null float64\n",
        "work_pub                87 non-null float64\n",
        "work_vol                23 non-null float64\n",
        "dtypes: float64(20), int64(1), object(13)"
       ]
      }
     ],
     "prompt_number": 97
    },
    {
     "cell_type": "markdown",
     "metadata": {},
     "source": [
      "Total number of cases = 804"
     ]
    },
    {
     "cell_type": "code",
     "collapsed": false,
     "input": [
      "#Cases span over these years\n",
      "df.complaint_year.unique()"
     ],
     "language": "python",
     "metadata": {},
     "outputs": [
      {
       "metadata": {},
       "output_type": "pyout",
       "prompt_number": 91,
       "text": [
        "array([ 2009.,  2010.,  2011.,  2012.,  2013.,  2014.])"
       ]
      }
     ],
     "prompt_number": 91
    },
    {
     "cell_type": "code",
     "collapsed": false,
     "input": [
      "# Exploring Final Disposition\n",
      "df['final_disposition'] = df['final_disposition'].str.replace(',', '') #removing commas from strings for clarity\n",
      "df.final_disposition.unique()"
     ],
     "language": "python",
     "metadata": {},
     "outputs": [
      {
       "metadata": {},
       "output_type": "pyout",
       "prompt_number": 18,
       "text": [
        "array([Pled Guilty Felony, Found Guilty Felony,\n",
        "       Pled Guilty Misdemeanor - Immediate Sentencing, No sentence yet,\n",
        "       Pled Guilty Misdemeanor, Dismissed Other (see note),\n",
        "       Dismissed (Issued by Other Jurisdiction),\n",
        "       Pled No Contest Infraction - Immediate Sentencing,\n",
        "       Dismissed (IFJ / IOE), Found Guilty Misdemeanor,\n",
        "       Dismissed by Court (PC 1118.1),\n",
        "       Pled Guilty Infraction - Immediate Sentencing,\n",
        "       Pled Guilty Misdemeanor After Jury Sworn, Found Not Guilty,\n",
        "       Dismissed - Defendant Deceased], dtype=object)"
       ]
      }
     ],
     "prompt_number": 18
    },
    {
     "cell_type": "markdown",
     "metadata": {},
     "source": [
      "# Exploring Final Disposition (Type of Sentence)"
     ]
    },
    {
     "cell_type": "code",
     "collapsed": false,
     "input": [
      "df.final_disposition = df.final_disposition.fillna(\"No sentence yet\") #blanks in final disposition are pending\n",
      "\n",
      "dismissed = df['final_disposition'].str.contains(\"Dismissed\")\n",
      "nosentence = df['final_disposition'].str.contains(\"No sentence yet\")\n",
      "nocontest = df['final_disposition'].str.contains(\"No Contest Infraction\")\n",
      "\n",
      "#Pled Guilty\n",
      "pleadguilty = df['final_disposition'].str.contains(\"Pled Guilty\")\n",
      "pleadguilty_inf = df['final_disposition'].str.contains(\"Pled Guilty Infraction\")\n",
      "pleadguilty_mis = df['final_disposition'].str.contains(\"Pled Guilty Misdemeanor\")\n",
      "pleadguilty_fel = df['final_disposition'].str.contains(\"Pled Guilty Felony\")\n",
      "\n",
      "#Pled Not Guilty\n",
      "pleadnotguilty = df['final_disposition'].str.contains(\"Found\")\n",
      "notguilty =  df['final_disposition'].str.contains(\"Found Not Guilty\")\n",
      "guilty =  df['final_disposition'].str.contains(\"Found Guilty\")\n",
      "guilty_mis = df['final_disposition'].str.contains(\"Found Guilty Misdemeanor\")\n",
      "guilty_fel = df['final_disposition'].str.contains(\"Found Guilty Felony\")\n",
      "\n",
      "hnrsentences=notguilty.sum()+pleadnotguilty.sum()+pleadguilty.sum()\n",
      "\n",
      "print \"Number of hit & runs sentenced =\", hnrsentences\n",
      "print \"Number of sentences pending (in development, warrant...) =\", nosentence.sum()\n",
      "print \"Number of cases dismissed =\", dismissed.sum()\n",
      "print \"\"\n",
      "print \"Number of defendants who pleaded:\"\n",
      "print \"\"\n",
      "print \"\u00b7 Guilty (plea bargain) =\", pleadguilty.sum()\n",
      "print \"    to an infraction =\", pleadguilty_inf.sum()\n",
      "print \"    to a misdemeanor =\", pleadguilty_mis.sum()\n",
      "print \"    to a felony =\", pleadguilty_fel.sum()\n",
      "print \"\"\n",
      "print \"\u00b7 No contest (plea bargain)\" \n",
      "print \"    to an infraction =\", nocontest.sum()\n",
      "print \"\"\n",
      "print \"\u00b7 Not guilty =\", pleadnotguilty.sum()\n",
      "print \"    and were found guilty =\", guilty.sum()\n",
      "print \"        of a misdemeanor =\", guilty_mis.sum()\n",
      "print \"        of a felony =\", guilty_fel.sum()\n",
      "print \"    and were found not guilty =\", notguilty.sum()\n"
     ],
     "language": "python",
     "metadata": {},
     "outputs": [
      {
       "output_type": "stream",
       "stream": "stdout",
       "text": [
        "Number of hit & runs sentenced = 707\n",
        "Number of sentences pending (in development, warrant...) = 70\n",
        "Number of cases dismissed = 27\n",
        "\n",
        "Number of defendants who pleaded:\n",
        "\n",
        "\u00b7 Guilty (plea bargain) = 689\n",
        "    to an infraction = 2\n",
        "    to a misdemeanor = 204\n",
        "    to a felony = 483\n",
        "\n",
        "\u00b7 No contest (plea bargain)\n",
        "    to an infraction = 1\n",
        "\n",
        "\u00b7 Not guilty = 17\n",
        "    and were found guilty = 16\n",
        "        of a misdemeanor = 1\n",
        "        of a felony = 15\n",
        "    and were found not guilty = 1\n"
       ]
      }
     ],
     "prompt_number": 87
    },
    {
     "cell_type": "markdown",
     "metadata": {},
     "source": [
      "#Time Served"
     ]
    },
    {
     "cell_type": "code",
     "collapsed": false,
     "input": [
      "print \"Breakdown of avg time served of\", 100*pleadguilty_mis.sum()/hnrsentences+100*pleadguilty_fel.sum()/hnrsentences+100*guilty_fel.sum()/hnrsentences,\"% of the hit and run cases\"\n",
      "print \"\"\n",
      "print \"Pled Guilty to Misdemeanor\"\n",
      "print \"---------------------\"\n",
      "print \"Avg time served in incarceration:\", df[pleadguilty_mis].incar.mean()/30.4, \"months\"\n",
      "print \"Avg time served in probation:\", df[pleadguilty_mis].prob.mean()/30.4, \"months\"\n",
      "print \"Avg time served in program:\", df[pleadguilty_mis].prog.mean()/30.4, \"months\"\n",
      "print \"Avg time served in work:\", df[pleadguilty_mis].work.mean()/30.4, \"months\"\n",
      "print \"This accounts for\",100*pleadguilty_mis.sum()/hnrsentences,\"% of all sentences\" \n",
      "print \"\"\n",
      "print \"Pled Guilty to Felony\"\n",
      "print \"---------------------\"\n",
      "print \"Avg time served in incarceration:\", df[pleadguilty_fel].incar.mean()/30.4, \"months\"\n",
      "print \"Avg time served in probation:\", df[pleadguilty_fel].prob.mean()/30.4, \"months\"\n",
      "print \"Avg time served in program:\", df[pleadguilty_fel].prog.mean()/30.4, \"months\"\n",
      "print \"Avg time served in work:\", df[pleadguilty_fel].work.mean()/30.4, \"months\"\n",
      "print \"This accounts for\",100*pleadguilty_fel.sum()/hnrsentences,\"% of all sentences\" \n",
      "print \"\"\n",
      "print \"Found Guilty of Felony\"\n",
      "print \"---------------------\"\n",
      "print \"Avg time served in incarceration:\", df[guilty_fel].incar.mean()/30.4, \"months\"\n",
      "print \"Avg time served in probation:\", df[guilty_fel].prob.mean()/30.4, \"months\"\n",
      "print \"Avg time served in program:\", df[guilty_fel].prog.mean()/30.4, \"months\"\n",
      "print \"Avg time served in work:\", df[guilty_fel].work.mean()/30.4, \"months\"\n",
      "print \"This accounts for\",100*guilty_fel.sum()/hnrsentences,\"% of all sentences\" "
     ],
     "language": "python",
     "metadata": {},
     "outputs": [
      {
       "output_type": "stream",
       "stream": "stdout",
       "text": [
        "Breakdown of avg time served of 98 % of the hit and run cases\n",
        "\n",
        "Pled Guilty to Misdemeanor\n",
        "---------------------\n",
        "Avg time served in incarceration: 1.99765037594 months\n",
        "Avg time served in probation: 45.9328609987 months\n",
        "Avg time served in program: nan months\n",
        "Avg time served in work: 0.295055821372 months\n",
        "This accounts for 28 % of all sentences\n",
        "\n",
        "Pled Guilty to Felony\n",
        "---------------------\n",
        "Avg time served in incarceration: 23.7220795892 months\n",
        "Avg time served in probation: 49.0148321777 months\n",
        "Avg time served in program: 12.0065789474 months\n",
        "Avg time served in work: 2.42173321234 months\n",
        "This accounts for 68 % of all sentences\n",
        "\n",
        "Found Guilty of Felony\n",
        "---------------------\n",
        "Avg time served in incarceration: 115.338345865 months\n",
        "Avg time served in probation: 52.0285087719 months\n",
        "Avg time served in program: nan months\n",
        "Avg time served in work: 0.0 months\n",
        "This accounts for 2 % of all sentences\n"
       ]
      }
     ],
     "prompt_number": 103
    },
    {
     "cell_type": "markdown",
     "metadata": {},
     "source": [
      "## Exploring Special Cases: Alcohol, Drugs, Deadly.\n"
     ]
    },
    {
     "cell_type": "code",
     "collapsed": false,
     "input": [
      "#highest charge mod\n",
      "df.highest_charge_mod = df.highest_charge_mod.fillna(\"\")\n",
      "\n",
      "#highest dispo charge\n",
      "df.highest_dispo_charge = df.highest_dispo_charge.fillna(\"\")"
     ],
     "language": "python",
     "metadata": {},
     "outputs": [],
     "prompt_number": 20
    },
    {
     "cell_type": "code",
     "collapsed": false,
     "input": [
      "#highest charge mod (_cm)\n",
      "alcohol_cm = df['highest_charge_mod'].str.contains(\"alcohol\")\n",
      "drug_cm = df['highest_charge_mod'].str.contains(\"drug\")\n",
      "combo_cm = df['highest_charge_mod'].str.contains(\"combine\")\n",
      "deadly_cm = df['highest_charge_mod'].str.contains(\"deadly\")\n",
      "force_cm = df['highest_charge_mod'].str.contains(\"force\")\n",
      "lawful_act_cm = df['highest_charge_mod'].str.contains(\"lawful\")\n",
      "unlawful_act_cm = df['highest_charge_mod'].str.contains(\"unlawful\")\n",
      "transport_cm = df['highest_charge_mod'].str.contains(\"transport\")\n",
      "\n",
      "print \"Highest Charge Mod\"\n",
      "print \"-----------------\"\n",
      "print deadly_cm.sum(), \"deadly cases\"\n",
      "print alcohol_cm.sum(), \"alcohol cases\"\n",
      "print drug_cm.sum(), \"drug cases\"\n",
      "print combo_cm.sum(), \"combined cases\"\n",
      "print force_cm.sum(), \"force\"\n",
      "print lawful_act_cm.sum(), \"lawful\"\n",
      "print unlawful_act_cm.sum(), \"unlawful act\"\n",
      "print transport_cm.sum(), \"transport\"\n",
      "\n",
      "#highest dispo charge (_dc)\n",
      "alcohol_dc = df['highest_dispo_charge'].str.contains(\"alcohol\")\n",
      "drug_dc = df['highest_dispo_charge'].str.contains(\"drug\")\n",
      "combo_dc = df['highest_dispo_charge'].str.contains(\"combine\")\n",
      "deadly_dc = df['highest_dispo_charge'].str.contains(\"deadly\")\n",
      "force_dc = df['highest_dispo_charge'].str.contains(\"force\")\n",
      "lawful_act_dc = df['highest_dispo_charge'].str.contains(\"lawful\")\n",
      "unlawful_act_dc = df['highest_dispo_charge'].str.contains(\"unlawful\")\n",
      "transport_dc = df['highest_dispo_charge'].str.contains(\"transport\")\n",
      "print \"\"\n",
      "print \"Highest Dispo Charge\"\n",
      "print \"-----------------\"\n",
      "print deadly_dc.sum(), \"deadly cases\"\n",
      "print alcohol_dc.sum(), \"alcohol cases\"\n",
      "print drug_dc.sum(), \"drug cases\"\n",
      "print combo_dc.sum(), \"combined cases\"\n",
      "print force_dc.sum(), \"force\"\n",
      "print lawful_act_dc.sum(), \"lawful\"\n",
      "print unlawful_act_dc.sum(), \"unlawful act\"\n",
      "print transport_dc.sum(), \"transport\""
     ],
     "language": "python",
     "metadata": {},
     "outputs": [
      {
       "output_type": "stream",
       "stream": "stdout",
       "text": [
        "Highest Charge Mod\n",
        "-----------------\n",
        "37 deadly cases\n",
        "286 alcohol cases\n",
        "15 drug cases\n",
        "21 combined cases\n",
        "2 force\n",
        "3 lawful\n",
        "1 unlawful act\n",
        "2 transport\n",
        "\n",
        "Highest Dispo Charge\n",
        "-----------------\n",
        "19 deadly cases\n",
        "170 alcohol cases\n",
        "13 drug cases\n",
        "12 combined cases\n",
        "3 force\n",
        "2 lawful\n",
        "1 unlawful act\n",
        "2 transport\n"
       ]
      }
     ],
     "prompt_number": 26
    }
   ],
   "metadata": {}
  }
 ]
}