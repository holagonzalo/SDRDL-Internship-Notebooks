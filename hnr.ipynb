{
 "metadata": {
  "name": "",
  "signature": "sha256:edc9fb954b98cabdab7bcfaa9ddc2cfda417a657bf95c1e27e746fd9e5ce7017"
 },
 "nbformat": 3,
 "nbformat_minor": 0,
 "worksheets": [
  {
   "cells": [
    {
     "cell_type": "markdown",
     "metadata": {},
     "source": [
      "#Hit and Run felonies from the San Diego District Attorney's office\n",
      "\n",
      "My question to the District Attorney was pretty straightforward: How have these cases been handled? I asked for all the felony hit-and-runs that the San Diego County DA received for the last 5 years, as well as the sentencing information.\n",
      "\n",
      "One challenge is trying to find a time range for the sentences imposed. For example, if I have ten sentences that range from \u201cProbation 3 years\u201d and \u201cState Prison 15 years,\u201d and the sentences range between the two, how would I find a simple way to answer the question: If you hit a person, and drive away, what\u2019s the most likely sentence you\u2019ll face?"
     ]
    },
    {
     "cell_type": "code",
     "collapsed": false,
     "input": [
      "%matplotlib inline\n",
      "import numpy as np\n",
      "import matplotlib as mpl\n",
      "import pandas as pd\n",
      "print 'Pandas version ' + pd.__version__\n"
     ],
     "language": "python",
     "metadata": {},
     "outputs": [
      {
       "output_type": "stream",
       "stream": "stdout",
       "text": [
        "Pandas version 0.13.1\n"
       ]
      }
     ],
     "prompt_number": 180
    },
    {
     "cell_type": "code",
     "collapsed": false,
     "input": [
      "df = pd.read_csv('hnr0914.csv')"
     ],
     "language": "python",
     "metadata": {},
     "outputs": [],
     "prompt_number": 2
    },
    {
     "cell_type": "code",
     "collapsed": false,
     "input": [
      "#Exploring the data set\n",
      "df.info()"
     ],
     "language": "python",
     "metadata": {},
     "outputs": [
      {
       "output_type": "stream",
       "stream": "stdout",
       "text": [
        "<class 'pandas.core.frame.DataFrame'>\n",
        "Int64Index: 804 entries, 0 to 803\n",
        "Data columns (total 34 columns):\n",
        "id                      804 non-null int64\n",
        "division                804 non-null object\n",
        "district                804 non-null object\n",
        "highest_dispo_charge    704 non-null object\n",
        "last_event_result       804 non-null object\n",
        "number                  804 non-null object\n",
        "highest_charge          804 non-null object\n",
        "highest_charge_mod      366 non-null object\n",
        "complaint_year          804 non-null float64\n",
        "next_pending_event      62 non-null object\n",
        "offense_date            804 non-null object\n",
        "sentencing              692 non-null object\n",
        "final_disposition       734 non-null object\n",
        "unit                    804 non-null object\n",
        "event_of_final_dispo    734 non-null object\n",
        "drug                    13 non-null float64\n",
        "drug_patient            1 non-null float64\n",
        "drug_res                12 non-null float64\n",
        "full                    1 non-null float64\n",
        "incar                   495 non-null float64\n",
        "incar_county            4 non-null float64\n",
        "incar_life              3 non-null float64\n",
        "incar_prison            151 non-null float64\n",
        "incr_local              0 non-null float64\n",
        "prob                    533 non-null float64\n",
        "prob_formal             317 non-null float64\n",
        "prob_sum                217 non-null float64\n",
        "prog                    3 non-null float64\n",
        "prog_child              1 non-null float64\n",
        "prog_dv                 2 non-null float64\n",
        "work                    126 non-null float64\n",
        "work_furl               17 non-null float64\n",
        "work_pub                87 non-null float64\n",
        "work_vol                23 non-null float64\n",
        "dtypes: float64(20), int64(1), object(13)"
       ]
      }
     ],
     "prompt_number": 3
    },
    {
     "cell_type": "markdown",
     "metadata": {},
     "source": [
      "Total number of cases = 804"
     ]
    },
    {
     "cell_type": "code",
     "collapsed": false,
     "input": [
      "#Cases span over these years\n",
      "df.complaint_year.unique()"
     ],
     "language": "python",
     "metadata": {},
     "outputs": [
      {
       "metadata": {},
       "output_type": "pyout",
       "prompt_number": 4,
       "text": [
        "array([ 2009.,  2010.,  2011.,  2012.,  2013.,  2014.])"
       ]
      }
     ],
     "prompt_number": 4
    },
    {
     "cell_type": "code",
     "collapsed": false,
     "input": [
      "# Exploring Final Disposition\n",
      "df['final_disposition'] = df['final_disposition'].str.replace(',', '') #removing commas from strings for clarity\n",
      "df.final_disposition.unique()"
     ],
     "language": "python",
     "metadata": {},
     "outputs": [
      {
       "metadata": {},
       "output_type": "pyout",
       "prompt_number": 5,
       "text": [
        "array([Pled Guilty Felony, Found Guilty Felony,\n",
        "       Pled Guilty Misdemeanor - Immediate Sentencing, nan,\n",
        "       Pled Guilty Misdemeanor, Dismissed Other (see note),\n",
        "       Dismissed (Issued by Other Jurisdiction),\n",
        "       Pled No Contest Infraction - Immediate Sentencing,\n",
        "       Dismissed (IFJ / IOE), Found Guilty Misdemeanor,\n",
        "       Dismissed by Court (PC 1118.1),\n",
        "       Pled Guilty Infraction - Immediate Sentencing,\n",
        "       Pled Guilty Misdemeanor After Jury Sworn, Found Not Guilty,\n",
        "       Dismissed - Defendant Deceased], dtype=object)"
       ]
      }
     ],
     "prompt_number": 5
    },
    {
     "cell_type": "markdown",
     "metadata": {},
     "source": [
      "# Exploring Final Disposition (Type of Sentence)"
     ]
    },
    {
     "cell_type": "code",
     "collapsed": false,
     "input": [
      "df.final_disposition = df.final_disposition.fillna(\"No sentence yet\") #blanks in final disposition are pending\n",
      "\n",
      "dismissed = df['final_disposition'].str.contains(\"Dismissed\")\n",
      "nosentence = df['final_disposition'].str.contains(\"No sentence yet\")\n",
      "nocontest = df['final_disposition'].str.contains(\"No Contest Infraction\")\n",
      "\n",
      "#Pled Guilty\n",
      "pleadguilty = df['final_disposition'].str.contains(\"Pled Guilty\")\n",
      "pleadguilty_inf = df['final_disposition'].str.contains(\"Pled Guilty Infraction\")\n",
      "pleadguilty_mis = df['final_disposition'].str.contains(\"Pled Guilty Misdemeanor\")\n",
      "pleadguilty_fel = df['final_disposition'].str.contains(\"Pled Guilty Felony\")\n",
      "\n",
      "#Pled Not Guilty\n",
      "pleadnotguilty = df['final_disposition'].str.contains(\"Found\")\n",
      "notguilty =  df['final_disposition'].str.contains(\"Found Not Guilty\")\n",
      "guilty =  df['final_disposition'].str.contains(\"Found Guilty\")\n",
      "guilty_mis = df['final_disposition'].str.contains(\"Found Guilty Misdemeanor\")\n",
      "guilty_fel = df['final_disposition'].str.contains(\"Found Guilty Felony\")\n",
      "\n",
      "hnrsentences=notguilty.sum()+pleadnotguilty.sum()+pleadguilty.sum()\n",
      "print \"Exploring Final Disposition (Type of Sentence)\"\n",
      "print \"\"\n",
      "print \"Number of hit & runs sentenced =\", hnrsentences\n",
      "print \"Number of sentences pending (in development, warrant...) =\", nosentence.sum()\n",
      "print \"Number of cases dismissed =\", dismissed.sum()\n",
      "print \"\"\n",
      "print \"Number of defendants who pleaded:\"\n",
      "print \"\"\n",
      "print \"\u00b7 Guilty (plea bargain) =\", pleadguilty.sum()\n",
      "print \"    to an infraction =\", pleadguilty_inf.sum()\n",
      "print \"    to a misdemeanor =\", pleadguilty_mis.sum()\n",
      "print \"    to a felony =\", pleadguilty_fel.sum()\n",
      "print \"\"\n",
      "print \"\u00b7 No contest (plea bargain)\" \n",
      "print \"    to an infraction =\", nocontest.sum()\n",
      "print \"\"\n",
      "print \"\u00b7 Not guilty =\", pleadnotguilty.sum()\n",
      "print \"    and were found guilty =\", guilty.sum()\n",
      "print \"        of a misdemeanor =\", guilty_mis.sum()\n",
      "print \"        of a felony =\", guilty_fel.sum()\n",
      "print \"    and were found not guilty =\", notguilty.sum()"
     ],
     "language": "python",
     "metadata": {},
     "outputs": [
      {
       "output_type": "stream",
       "stream": "stdout",
       "text": [
        "Exploring Final Disposition (Type of Sentence)\n",
        "\n",
        "Number of hit & runs sentenced = 707\n",
        "Number of sentences pending (in development, warrant...) = 70\n",
        "Number of cases dismissed = 27\n",
        "\n",
        "Number of defendants who pleaded:\n",
        "\n",
        "\u00b7 Guilty (plea bargain) = 689\n",
        "    to an infraction = 2\n",
        "    to a misdemeanor = 204\n",
        "    to a felony = 483\n",
        "\n",
        "\u00b7 No contest (plea bargain)\n",
        "    to an infraction = 1\n",
        "\n",
        "\u00b7 Not guilty = 17\n",
        "    and were found guilty = 16\n",
        "        of a misdemeanor = 1\n",
        "        of a felony = 15\n",
        "    and were found not guilty = 1\n"
       ]
      }
     ],
     "prompt_number": 201
    },
    {
     "cell_type": "code",
     "collapsed": false,
     "input": [
      "from pylab import *\n",
      "figure(2, figsize=(4,4))\n",
      "axes([0.1, 0.1, 0.8, 0.8])\n",
      "fracs=[68, 28, 2, 2]\n",
      "mycolors=['blue', 'green', 'red', 'yellow']\n",
      "mylabels=['Pled Guilt:Felony', 'Pled Guilt:Misdemeanor', 'Found Guilt:Felony', 'Others']\n",
      "pie(fracs,labels=mylabels,colors=mycolors)\n",
      "show()"
     ],
     "language": "python",
     "metadata": {},
     "outputs": [
      {
       "metadata": {},
       "output_type": "display_data",
       "png": "[encoded data removed]",
       "text": [
        "<matplotlib.figure.Figure at 0x107351090>"
       ]
      }
     ],
     "prompt_number": 199
    },
    {
     "cell_type": "markdown",
     "metadata": {},
     "source": [
      "#Time Served"
     ]
    },
    {
     "cell_type": "code",
     "collapsed": false,
     "input": [
      "print \"Breakdown of Avg Time Served of\",100*pleadguilty_mis.sum()/hnrsentences+100*pleadguilty_fel.sum()/hnrsentences+100*guilty_fel.sum()/hnrsentences,\"% of all hit and run sentences\"\n",
      "print \"\"\n",
      "print \"Pled Guilty to Felony =\",100*pleadguilty_fel.sum()/hnrsentences,\"% of all sentences\" \n",
      "print \"------------------------------------------\"\n",
      "print \"Avg time served in incarceration:\", df[pleadguilty_fel].incar.mean()/30.4, \"months\"\n",
      "print \"Avg time served in probation:\", df[pleadguilty_fel].prob.mean()/30.4, \"months\"\n",
      "print \"Avg time served in work:\", df[pleadguilty_fel].work.mean()/30.4, \"months\"\n",
      "print \"Avg time served in program:\", df[pleadguilty_fel].prog.mean()/30.4, \"months\"\n",
      "print \"\"\n",
      "print \"Pled Guilty to Misdemeanor =\",100*pleadguilty_mis.sum()/hnrsentences,\"% of all sentences\"\n",
      "print \"------------------------------------------\"\n",
      "print \"Avg time served in incarceration:\", df[pleadguilty_mis].incar.mean()/30.4, \"months\"\n",
      "print \"Avg time served in probation:\", df[pleadguilty_mis].prob.mean()/30.4, \"months\"\n",
      "print \"Avg time served in work:\", df[pleadguilty_mis].work.mean()/30.4, \"months\"\n",
      "print \"Avg time served in program:\", df[pleadguilty_mis].prog.mean()/30.4, \"months\" \n",
      "print \"\"\n",
      "print \"Found Guilty of Felony =\",100*guilty_fel.sum()/hnrsentences,\"% of all sentences\" \n",
      "print \"------------------------------------------\"\n",
      "print \"Avg time served in incarceration:\", df[guilty_fel].incar.mean()/30.4, \"months\"\n",
      "print \"Avg time served in probation:\", df[guilty_fel].prob.mean()/30.4, \"months\"\n",
      "print \"Avg time served in work:\", df[guilty_fel].work.mean()/30.4, \"months\"\n",
      "print \"Avg time served in program:\", df[guilty_fel].prog.mean()/30.4, \"months\""
     ],
     "language": "python",
     "metadata": {},
     "outputs": [
      {
       "output_type": "stream",
       "stream": "stdout",
       "text": [
        "Breakdown of Avg Time Served of 98 % of all hit and run sentences\n",
        "\n",
        "Pled Guilty to Felony = 68 % of all sentences\n",
        "------------------------------------------\n",
        "Avg time served in incarceration: 23.7220795892 months\n",
        "Avg time served in probation: 49.0148321777 months\n",
        "Avg time served in work: 2.42173321234 months\n",
        "Avg time served in program: 12.0065789474 months\n",
        "\n",
        "Pled Guilty to Misdemeanor = 28 % of all sentences\n",
        "------------------------------------------\n",
        "Avg time served in incarceration: 1.99765037594 months\n",
        "Avg time served in probation: 45.9328609987 months\n",
        "Avg time served in work: 0.295055821372 months\n",
        "Avg time served in program: nan months\n",
        "\n",
        "Found Guilty of Felony = 2 % of all sentences\n",
        "------------------------------------------\n",
        "Avg time served in incarceration: 115.338345865 months\n",
        "Avg time served in probation: 52.0285087719 months\n",
        "Avg time served in work: 0.0 months\n",
        "Avg time served in program: nan months\n"
       ]
      }
     ],
     "prompt_number": 171
    },
    {
     "cell_type": "code",
     "collapsed": false,
     "input": [
      "N = 3\n",
      "#('PledMis', 'PledFel', 'FoundFel')\n",
      "Incarceration   = np.array([115.3, 1.99,23.7] )   \n",
      "Probation   = np.array([52.0, 45.9, 45.0])   \n",
      "Work   = np.array([0, 0.3, 2.4])   \n",
      "Program   = np.array([0, 0, 12])   \n",
      "\n",
      "ind = np.arange(N)    # the x locations for the groups\n",
      "width = 0.5           # the width of the bars: can also be len(x) sequence\n",
      "p1 = plt.bar(ind, Incarceration, width, color='r')\n",
      "p2 = plt.bar(ind, Probation, width, color='y',bottom=Incarceration)\n",
      "p3 = plt.bar(ind, Work, width, color='b',bottom= Probation+Incarceration)\n",
      "p4 = plt.bar(ind, Program, width, color='g',bottom=Work+Probation+Incarceration)\n",
      "\n",
      "plt.ylabel('Months')\n",
      "plt.title('Time')\n",
      "\n",
      "plt.xticks(ind+width/2, ('Found Guilty: Felony', 'Pled Guilty: Mis', 'Pled Guilty: Felony' ) )\n",
      "plt.yticks(np.arange(10,200,10))\n",
      "plt.legend ((p1[0], p2[0], p3[0], p4[0]), ('Incarceration', 'Probation','Work','Program' ))\n"
     ],
     "language": "python",
     "metadata": {},
     "outputs": [
      {
       "metadata": {},
       "output_type": "pyout",
       "prompt_number": 200,
       "text": [
        "<matplotlib.legend.Legend at 0x107c57790>"
       ]
      },
      {
       "metadata": {},
       "output_type": "display_data",
       "png": "[encoded data removed]",
       "text": [
        "<matplotlib.figure.Figure at 0x107c0b450>"
       ]
      }
     ],
     "prompt_number": 200
    },
    {
     "cell_type": "code",
     "collapsed": false,
     "input": [
      "N = 2\n",
      "Incarceration   = np.array([23.7,1.99] )   \n",
      "Probation   = np.array([ 45.0,45.9])   \n",
      "Work   = np.array([ 2.4,0.3])   \n",
      "Program   = np.array([ 12,0])   \n",
      "\n",
      "ind = np.arange(N)    # the x locations for the groups\n",
      "width = 0.5           # the width of the bars: can also be len(x) sequence\n",
      "p1 = plt.bar(ind, Incarceration, width, color='r')\n",
      "p2 = plt.bar(ind, Probation, width, color='y',bottom=Incarceration)\n",
      "p3 = plt.bar(ind, Work, width, color='b',bottom= Probation+Incarceration)\n",
      "p4 = plt.bar(ind, Program, width, color='g',bottom=Work+Probation+Incarceration)\n",
      "\n",
      "plt.ylabel('Months')\n",
      "plt.title('Time')\n",
      "\n",
      "plt.xticks(ind+width/2, ('Pled Guilty: Felony', 'Pled Guilty: Misdemeanor' ) )\n",
      "plt.yticks(np.arange(0,100,5))\n",
      "plt.legend ((p1[0], p2[0], p3[0], p4[0]), ('Incarceration', 'Probation','Work','Program' ))\n"
     ],
     "language": "python",
     "metadata": {},
     "outputs": [
      {
       "metadata": {},
       "output_type": "pyout",
       "prompt_number": 213,
       "text": [
        "<matplotlib.legend.Legend at 0x10860d290>"
       ]
      },
      {
       "metadata": {},
       "output_type": "display_data",
       "png": "[encoded data removed]",
       "text": [
        "<matplotlib.figure.Figure at 0x108560a90>"
       ]
      }
     ],
     "prompt_number": 213
    },
    {
     "cell_type": "markdown",
     "metadata": {},
     "source": [
      "#Districts"
     ]
    },
    {
     "cell_type": "code",
     "collapsed": false,
     "input": [
      "df.district.unique()"
     ],
     "language": "python",
     "metadata": {},
     "outputs": [
      {
       "metadata": {},
       "output_type": "pyout",
       "prompt_number": 153,
       "text": [
        "array([Central, East County, North County, South County], dtype=object)"
       ]
      }
     ],
     "prompt_number": 153
    },
    {
     "cell_type": "code",
     "collapsed": false,
     "input": [
      "central=df[(df.district == \"Central\")]\n",
      "east=df[(df.district == \"East County\")]\n",
      "north=df[(df.district == \"North County\")]\n",
      "south=df[(df.district == \"South County\")]"
     ],
     "language": "python",
     "metadata": {},
     "outputs": [],
     "prompt_number": 159
    },
    {
     "cell_type": "code",
     "collapsed": false,
     "input": [],
     "language": "python",
     "metadata": {},
     "outputs": [],
     "prompt_number": 183
    },
    {
     "cell_type": "markdown",
     "metadata": {},
     "source": [
      "## Exploring Special Cases: Alcohol, Drugs, Deadly.\n"
     ]
    },
    {
     "cell_type": "code",
     "collapsed": false,
     "input": [
      "#highest charge mod\n",
      "df.highest_charge_mod = df.highest_charge_mod.fillna(\"\")\n",
      "#highest dispo charge\n",
      "df.highest_dispo_charge = df.highest_dispo_charge.fillna(\"\")"
     ],
     "language": "python",
     "metadata": {},
     "outputs": [],
     "prompt_number": 8
    },
    {
     "cell_type": "code",
     "collapsed": false,
     "input": [],
     "language": "python",
     "metadata": {},
     "outputs": []
    },
    {
     "cell_type": "code",
     "collapsed": false,
     "input": [
      "#highest charge mod (_cm)\n",
      "alcohol_cm = df['highest_charge_mod'].str.contains(\"alcohol\")\n",
      "drug_cm = df['highest_charge_mod'].str.contains(\"drug\")\n",
      "combo_cm = df['highest_charge_mod'].str.contains(\"combine\")\n",
      "deadly_cm = df['highest_charge_mod'].str.contains(\"deadly\")\n",
      "force_cm = df['highest_charge_mod'].str.contains(\"force\")\n",
      "lawful_act_cm = df['highest_charge_mod'].str.contains(\"lawful\")\n",
      "unlawful_act_cm = df['highest_charge_mod'].str.contains(\"unlawful\")\n",
      "transport_cm = df['highest_charge_mod'].str.contains(\"transport\")\n",
      "\n",
      "print \"Highest Charge Mod\"\n",
      "print \"-----------------\"\n",
      "print deadly_cm.sum(), \"deadly cases\"\n",
      "print alcohol_cm.sum(), \"alcohol cases\"\n",
      "print drug_cm.sum(), \"drug cases\"\n",
      "print combo_cm.sum(), \"combined cases\"\n",
      "print force_cm.sum(), \"force\"\n",
      "print lawful_act_cm.sum(), \"lawful\"\n",
      "print unlawful_act_cm.sum(), \"unlawful act\"\n",
      "print transport_cm.sum(), \"transport\"\n",
      "\n",
      "#highest dispo charge (_dc)\n",
      "alcohol_dc = df['highest_dispo_charge'].str.contains(\"alcohol\")\n",
      "drug_dc = df['highest_dispo_charge'].str.contains(\"drug\")\n",
      "combo_dc = df['highest_dispo_charge'].str.contains(\"combine\")\n",
      "deadly_dc = df['highest_dispo_charge'].str.contains(\"deadly\",)\n",
      "force_dc = df['highest_dispo_charge'].str.contains(\"force\")\n",
      "lawful_act_dc = df['highest_dispo_charge'].str.contains(\"lawful\")\n",
      "unlawful_act_dc = df['highest_dispo_charge'].str.contains(\"unlawful\")\n",
      "transport_dc = df['highest_dispo_charge'].str.contains(\"transport\")\n",
      "\n",
      "#codes (highest_dispo_charge)\n",
      "\n",
      "\n",
      "print \"\"\n",
      "print \"Highest Dispo Charge\"\n",
      "print \"-----------------\"\n",
      "print deadly_dc.sum(), \"deadly cases\"\n",
      "print alcohol_dc.sum(), \"alcohol cases\"\n",
      "print drug_dc.sum(), \"drug cases\"\n",
      "print combo_dc.sum(), \"combined cases\"\n",
      "print force_dc.sum(), \"force\"\n",
      "print lawful_act_dc.sum(), \"lawful\"\n",
      "print unlawful_act_dc.sum(), \"unlawful act\"\n",
      "print transport_dc.sum(), \"transport\""
     ],
     "language": "python",
     "metadata": {},
     "outputs": [
      {
       "output_type": "stream",
       "stream": "stdout",
       "text": [
        "Highest Charge Mod\n",
        "-----------------\n",
        "37 deadly cases\n",
        "286 alcohol cases\n",
        "15 drug cases\n",
        "21 combined cases\n",
        "2 force\n",
        "3 lawful\n",
        "1 unlawful act\n",
        "2 transport\n",
        "\n",
        "Highest Dispo Charge\n",
        "-----------------\n",
        "19 deadly cases\n",
        "170 alcohol cases\n",
        "13 drug cases\n",
        "12 combined cases\n",
        "3 force\n",
        "2 lawful\n",
        "1 unlawful act\n",
        "2 transport\n"
       ]
      }
     ],
     "prompt_number": 146
    },
    {
     "cell_type": "code",
     "collapsed": false,
     "input": [
      "n_groups = 4\n",
      "deadly = (37, 19)\n",
      "alcohol = (286, 170)\n",
      "drugs = (15,13)\n",
      "combined=(21,12)\n",
      "fig, ax = plt.subplots()"
     ],
     "language": "python",
     "metadata": {},
     "outputs": [
      {
       "metadata": {},
       "output_type": "display_data",
       "png": "[encoded data removed]",
       "text": [
        "<matplotlib.figure.Figure at 0x1073d7a10>"
       ]
      }
     ],
     "prompt_number": 145
    },
    {
     "cell_type": "code",
     "collapsed": false,
     "input": [],
     "language": "python",
     "metadata": {},
     "outputs": []
    }
   ],
   "metadata": {}
  }
 ]
}