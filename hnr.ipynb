{
 "metadata": {
  "name": "",
  "signature": "sha256:2a75b684ba71ce18bc6ac05175f3572af48bd5b8686fcf84a29838766dfecf8d"
 },
 "nbformat": 3,
 "nbformat_minor": 0,
 "worksheets": [
  {
   "cells": [
    {
     "cell_type": "markdown",
     "metadata": {},
     "source": [
      "#Hit and Run felonies from the San Diego District Attorney's office\n",
      "\n",
      "My question to the District Attorney was pretty straightforward: How have these cases been handled? I asked for all the felony hit-and-runs that the San Diego County DA received for the last 5 years, as well as the sentencing information.\n",
      "\n",
      "One challenge is trying to find a time range for the sentences imposed. For example, if I have ten sentences that range from \u201cProbation 3 years\u201d and \u201cState Prison 15 years,\u201d and the sentences range between the two, how would I find a simple way to answer the question: If you hit a person, and drive away, what\u2019s the most likely sentence you\u2019ll face?"
     ]
    },
    {
     "cell_type": "code",
     "collapsed": false,
     "input": [
      "%matplotlib inline\n",
      "import numpy as np\n",
      "import matplotlib.pyplot as plt\n",
      "import pandas as pd\n",
      "print 'Pandas version ' + pandas.__version__"
     ],
     "language": "python",
     "metadata": {},
     "outputs": [
      {
       "ename": "NameError",
       "evalue": "name 'pandas' is not defined",
       "output_type": "pyerr",
       "traceback": [
        "\u001b[0;31m---------------------------------------------------------------------------\u001b[0m\n\u001b[0;31mNameError\u001b[0m                                 Traceback (most recent call last)",
        "\u001b[0;32m<ipython-input-4-00de32df6aa9>\u001b[0m in \u001b[0;36m<module>\u001b[0;34m()\u001b[0m\n\u001b[1;32m      3\u001b[0m \u001b[0;32mimport\u001b[0m \u001b[0mmatplotlib\u001b[0m\u001b[0;34m.\u001b[0m\u001b[0mpyplot\u001b[0m \u001b[0;32mas\u001b[0m \u001b[0mplt\u001b[0m\u001b[0;34m\u001b[0m\u001b[0m\n\u001b[1;32m      4\u001b[0m \u001b[0;32mimport\u001b[0m \u001b[0mpandas\u001b[0m \u001b[0;32mas\u001b[0m \u001b[0mpd\u001b[0m\u001b[0;34m\u001b[0m\u001b[0m\n\u001b[0;32m----> 5\u001b[0;31m \u001b[0;32mprint\u001b[0m \u001b[0;34m'Pandas version '\u001b[0m \u001b[0;34m+\u001b[0m \u001b[0mpandas\u001b[0m\u001b[0;34m.\u001b[0m\u001b[0m__version__\u001b[0m\u001b[0;34m\u001b[0m\u001b[0m\n\u001b[0m",
        "\u001b[0;31mNameError\u001b[0m: name 'pandas' is not defined"
       ]
      }
     ],
     "prompt_number": 4
    },
    {
     "cell_type": "code",
     "collapsed": false,
     "input": [
      "df = pd.read_csv(\"http://devtest.sandiegodata.org.s3.amazonaws.com/manifests/7a007ac7-960f-468b-8ce3-7b9f83e34ea8/hnr0914.csv\")"
     ],
     "language": "python",
     "metadata": {},
     "outputs": [],
     "prompt_number": 5
    },
    {
     "cell_type": "code",
     "collapsed": false,
     "input": [
      "df.info()"
     ],
     "language": "python",
     "metadata": {},
     "outputs": [
      {
       "output_type": "stream",
       "stream": "stdout",
       "text": [
        "<class 'pandas.core.frame.DataFrame'>\n",
        "Int64Index: 804 entries, 0 to 803\n",
        "Data columns (total 34 columns):\n",
        "id                      804 non-null int64\n",
        "division                804 non-null object\n",
        "district                804 non-null object\n",
        "highest_dispo_charge    704 non-null object\n",
        "last_event_result       804 non-null object\n",
        "number                  804 non-null object\n",
        "highest_charge          804 non-null object\n",
        "highest_charge_mod      366 non-null object\n",
        "complaint_year          804 non-null float64\n",
        "next_pending_event      62 non-null object\n",
        "offense_date            804 non-null object\n",
        "sentencing              692 non-null object\n",
        "final_disposition       734 non-null object\n",
        "unit                    804 non-null object\n",
        "event_of_final_dispo    734 non-null object\n",
        "drug                    13 non-null float64\n",
        "drug_patient            1 non-null float64\n",
        "drug_res                12 non-null float64\n",
        "full                    1 non-null float64\n",
        "incar                   495 non-null float64\n",
        "incar_county            4 non-null float64\n",
        "incar_life              3 non-null float64\n",
        "incar_prison            151 non-null float64\n",
        "incr_local              0 non-null float64\n",
        "prob                    533 non-null float64\n",
        "prob_formal             317 non-null float64\n",
        "prob_sum                217 non-null float64\n",
        "prog                    3 non-null float64\n",
        "prog_child              1 non-null float64\n",
        "prog_dv                 2 non-null float64\n",
        "work                    126 non-null float64\n",
        "work_furl               17 non-null float64\n",
        "work_pub                87 non-null float64\n",
        "work_vol                23 non-null float64\n",
        "dtypes: float64(20), int64(1), object(13)"
       ]
      }
     ],
     "prompt_number": 6
    },
    {
     "cell_type": "markdown",
     "metadata": {},
     "source": [
      "Total number of cases = 804"
     ]
    },
    {
     "cell_type": "code",
     "collapsed": false,
     "input": [
      "df.complaint_year.unique()"
     ],
     "language": "python",
     "metadata": {},
     "outputs": []
    },
    {
     "cell_type": "markdown",
     "metadata": {},
     "source": [
      "The cases span between '09 and '14"
     ]
    },
    {
     "cell_type": "code",
     "collapsed": false,
     "input": [
      "# Exploring Final Disposition\n",
      "df['final_disposition'] = df['final_disposition'].str.replace(',', '') #removing commas from strings for clarity\n",
      "df.final_disposition.unique()"
     ],
     "language": "python",
     "metadata": {},
     "outputs": [
      {
       "metadata": {},
       "output_type": "pyout",
       "prompt_number": 7,
       "text": [
        "array([Pled Guilty Felony, Found Guilty Felony,\n",
        "       Pled Guilty Misdemeanor - Immediate Sentencing, nan,\n",
        "       Pled Guilty Misdemeanor, Dismissed Other (see note),\n",
        "       Dismissed (Issued by Other Jurisdiction),\n",
        "       Pled No Contest Infraction - Immediate Sentencing,\n",
        "       Dismissed (IFJ / IOE), Found Guilty Misdemeanor,\n",
        "       Dismissed by Court (PC 1118.1),\n",
        "       Pled Guilty Infraction - Immediate Sentencing,\n",
        "       Pled Guilty Misdemeanor After Jury Sworn, Found Not Guilty,\n",
        "       Dismissed - Defendant Deceased], dtype=object)"
       ]
      }
     ],
     "prompt_number": 7
    },
    {
     "cell_type": "markdown",
     "metadata": {},
     "source": [
      "# Exploring Final Disposition (Type of Sentence)\n",
      "\n",
      "- Pled not-guilty\n",
      "    - Found guilty: Felony\n",
      "    - Found guilty: Misdemeanor\n",
      "    - Found not guilty\n",
      "- Pled Guilty (Bargain) \n",
      "    - Infraction\n",
      "    - Misdemeanor\n",
      "    - Felony\n",
      "- Dismissed\n"
     ]
    },
    {
     "cell_type": "code",
     "collapsed": false,
     "input": [
      "df.final_disposition = df.final_disposition.fillna(\"No sentence yet\") #blanks in final disposition are pending\n",
      "\n",
      "dismissed = df['final_disposition'].str.contains(\"Dismissed\")\n",
      "nosentence = df['final_disposition'].str.contains(\"No sentence yet\")\n",
      "nocontest = df['final_disposition'].str.contains(\"No Contest Infraction\")\n",
      "\n",
      "#Pled Guilty\n",
      "pleadguilty = df['final_disposition'].str.contains(\"Pled Guilty\")\n",
      "pleadguilty_inf = df['final_disposition'].str.contains(\"Pled Guilty Infraction\")\n",
      "pleadguilty_mis = df['final_disposition'].str.contains(\"Pled Guilty Misdemeanor\")\n",
      "pleadguilty_fel = df['final_disposition'].str.contains(\"Pled Guilty Felony\")\n",
      "\n",
      "#Pled Not Guilty\n",
      "pleadnotguilty = df['final_disposition'].str.contains(\"Found\").sum()\n",
      "notguilty =  df['final_disposition'].str.contains(\"Found Not Guilty\").sum()\n",
      "guilty =  df['final_disposition'].str.contains(\"Found Guilty\").sum()\n",
      "guilty_mis = df['final_disposition'].str.contains(\"Found Guilty Misdemeanor\").sum()\n",
      "guilty_fel = df['final_disposition'].str.contains(\"Found Guilty Felony\").sum()\n",
      "\n",
      "print \"Number of hit & runs sentenced =\", notguilty.sum()+pleadnotguilty.sum()+pleadguilty.sum()\n",
      "print \"Number of sentences pending (in development, warrant...) =\", nosentence.sum()\n",
      "print \"Number of cases dismissed =\", dismissed.sum()\n",
      "print \"\"\n",
      "print \"Number of defendants who pleaded:\"\n",
      "print \"\"\n",
      "print \"\u00b7 Guilty (plea bargain) =\", pleadguilty.sum()\n",
      "print \"    to an infraction =\", pleadguilty_inf.sum()\n",
      "print \"    to a misdemeanor =\", pleadguilty_mis.sum()\n",
      "print \"    to a felony =\", pleadguilty_fel.sum()\n",
      "print \"\"\n",
      "print \"\u00b7 No contest (plea bargain)\" \n",
      "print \"    to an infraction =\", nocontest.sum()\n",
      "print \"\"\n",
      "print \"\u00b7 Not guilty =\", pleadnotguilty.sum()\n",
      "print \"    and were found guilty =\", guilty.sum()\n",
      "print \"        of a misdemeanor =\", guilty_mis.sum()\n",
      "print \"        of a felony =\", guilty_fel.sum()\n",
      "print \"    and were found not guilty =\", notguilty.sum()"
     ],
     "language": "python",
     "metadata": {},
     "outputs": [
      {
       "output_type": "stream",
       "stream": "stdout",
       "text": [
        "Number of hit & runs sentenced = 707\n",
        "Number of sentences pending (in development, warrant...) = 70\n",
        "Number of cases dismissed = 27\n",
        "\n",
        "Number of defendants who pleaded:\n",
        "\n",
        "\u00b7 Guilty (plea bargain) = 689\n",
        "    to an infraction = 2\n",
        "    to a misdemeanor = 204\n",
        "    to a felony = 483\n",
        "\n",
        "\u00b7 No contest (plea bargain)\n",
        "    to an infraction = 1\n",
        "\n",
        "\u00b7 Not guilty = 17\n",
        "    and were found guilty = 16\n",
        "        of a misdemeanor = 1\n",
        "        of a felony = 15\n",
        "    and were found not guilty = 1\n"
       ]
      }
     ],
     "prompt_number": 8
    },
    {
     "cell_type": "code",
     "collapsed": false,
     "input": [
      "#visualize it\n"
     ],
     "language": "python",
     "metadata": {},
     "outputs": []
    },
    {
     "cell_type": "markdown",
     "metadata": {},
     "source": [
      "## Exploring Special Cases: Alcohol, Drugs, Deadly.\n"
     ]
    },
    {
     "cell_type": "code",
     "collapsed": false,
     "input": [
      "#highers charge mod\n",
      "df.highest_charge_mod = df.highest_charge_mod.fillna(\"\")\n",
      "df.highest_charge_mod.unique()"
     ],
     "language": "python",
     "metadata": {},
     "outputs": []
    },
    {
     "cell_type": "code",
     "collapsed": false,
     "input": [
      "alcohol = df['highest_charge_mod'].str.contains(\"alcohol\")\n",
      "drug = df['highest_charge_mod'].str.contains(\"drug\")\n",
      "combo = df['highest_charge_mod'].str.contains(\"combine\")\n",
      "deadly = df['highest_charge_mod'].str.contains(\"deadly\")\n",
      "force = df['highest_charge_mod'].str.contains(\"force\")\n",
      "lawful_act = df['highest_charge_mod'].str.contains(\"lawful\")\n",
      "unlawful_act = df['highest_charge_mod'].str.contains(\"unlawful\")\n",
      "transport = df['highest_charge_mod'].str.contains(\"transport\")\n",
      "\n",
      "print deadly.sum(), \"cases resulted in death\"\n",
      "print alcohol.sum(), \"cases where alcohol was involved\"\n",
      "print drug.sum(), \"cases where drugs were involved\"\n",
      "print \"\"\n",
      "print combo.sum(), \"combined (alcohol+drugs?) cases\"\n",
      "print force.sum(), \"force\"\n",
      "print lawful_act.sum(), \"lawful\"\n",
      "print unlawful_act.sum(), \"unlawful act\"\n",
      "print transport.sum(), \"transport\"\n"
     ],
     "language": "python",
     "metadata": {},
     "outputs": [
      {
       "output_type": "stream",
       "stream": "stdout",
       "text": [
        "37 cases resulted in death\n",
        "286 cases where alcohol was involved\n",
        "15 cases where drugs were involved\n",
        "\n",
        "21 combined (alcohol+drugs?) cases\n",
        "2 force\n",
        "3 lawful\n",
        "1 unlawful act\n",
        "2 transport\n"
       ]
      }
     ],
     "prompt_number": 9
    },
    {
     "cell_type": "markdown",
     "metadata": {},
     "source": [
      "# Exploring Time Served\n",
      "- Incarceration\n",
      "    - Life \n",
      "    - State\n",
      "    - County\n",
      "    - Local\n",
      "- Probation\n",
      "- Work \n",
      "- Program"
     ]
    },
    {
     "cell_type": "markdown",
     "metadata": {},
     "source": [
      "#Type Sentence + Time Served\n"
     ]
    },
    {
     "cell_type": "code",
     "collapsed": false,
     "input": [
      "data.highest_charge_mod.unique()"
     ],
     "language": "python",
     "metadata": {},
     "outputs": []
    },
    {
     "cell_type": "code",
     "collapsed": false,
     "input": [],
     "language": "python",
     "metadata": {},
     "outputs": []
    },
    {
     "cell_type": "code",
     "collapsed": false,
     "input": [],
     "language": "python",
     "metadata": {},
     "outputs": []
    }
   ],
   "metadata": {}
  }
 ]
}