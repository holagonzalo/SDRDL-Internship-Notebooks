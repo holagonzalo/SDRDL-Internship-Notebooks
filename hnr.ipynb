{
 "metadata": {
  "name": "",
  "signature": "sha256:3724e8957391abc903639ed994001c0b260e1e8a0286377c61eb281719ca9ad0"
 },
 "nbformat": 3,
 "nbformat_minor": 0,
 "worksheets": [
  {
   "cells": [
    {
     "cell_type": "markdown",
     "metadata": {},
     "source": [
      "#Hit and Run Cases from the San Diego District Attorney's Office\n",
      "\n",
      "Exploring the time range for the sentences imposed to answer the question: if you hit a person, and drive away, what\u2019s the most likely sentence you\u2019ll face?"
     ]
    },
    {
     "cell_type": "code",
     "collapsed": false,
     "input": [
      "%matplotlib inline\n",
      "import numpy as np\n",
      "import matplotlib as mpl\n",
      "import pandas as pd\n",
      "\n",
      "df = pd.read_csv('hnr0914.csv')\n",
      "print \"Total number of cases =\",len(df.index)\n",
      "print \"Between the years\",df.complaint_year.min(), \"and\", df.complaint_year.max()"
     ],
     "language": "python",
     "metadata": {},
     "outputs": [
      {
       "output_type": "stream",
       "stream": "stdout",
       "text": [
        "Total number of cases = 804\n",
        "Between the years 2009.0 and 2014.0\n"
       ]
      }
     ],
     "prompt_number": 88
    },
    {
     "cell_type": "code",
     "collapsed": false,
     "input": [
      "df.final_disposition = df.final_disposition.fillna(\"No sentence yet\") #blanks in final disposition are pending\n",
      "dismissed = df['final_disposition'].str.contains(\"Dismissed\")\n",
      "nosentence = df['final_disposition'].str.contains(\"No sentence yet\")\n",
      "nocontest = df['final_disposition'].str.contains(\"No Contest Infraction\")\n",
      "df.sentencing = df.sentencing.fillna(\"\")\n",
      "county = df[df['sentencing'].str.contains(\"Local\")]\n",
      "prison = df[df['sentencing'].str.contains(\"Prison\")]\n",
      "\n",
      "#Plea Bargain\n",
      "pleadguilty = df['final_disposition'].str.contains(\"Pled Guilty\")\n",
      "pleadguilty_inf = df['final_disposition'].str.contains(\"Pled Guilty Infraction\")\n",
      "pleadguilty_mis = df['final_disposition'].str.contains(\"Pled Guilty Misdemeanor\")\n",
      "pleadguilty_fel = df['final_disposition'].str.contains(\"Pled Guilty Felony\")\n",
      "\n",
      "#Pled Not Guilty\n",
      "pleadnotguilty = df['final_disposition'].str.contains(\"Found\")\n",
      "notguilty =  df['final_disposition'].str.contains(\"Found Not Guilty\")\n",
      "guilty =  df['final_disposition'].str.contains(\"Found Guilty\")\n",
      "guilty_mis = df['final_disposition'].str.contains(\"Found Guilty Misdemeanor\")\n",
      "guilty_fel = df['final_disposition'].str.contains(\"Found Guilty Felony\")\n",
      "\n",
      "hnrsentences=notguilty.sum()+pleadnotguilty.sum()+pleadguilty.sum()\n",
      "\n",
      "print \"Final Disposition: The final settlement of a criminal case.\"\n",
      "print \"-----------------------------------------------------------\"\n",
      "print \"Number of hit & runs sentenced =\", hnrsentences\n",
      "print \"Number of sentences pending (in development, warrant...) =\", nosentence.sum()\n",
      "print \"Number of cases dismissed =\", dismissed.sum()\n",
      "print \"\"\n",
      "print \"Number of defendants who pleaded:\"\n",
      "print \"\"\n",
      "print \"\u00b7 Guilty (plea bargain) =\", pleadguilty.sum()\n",
      "print \"    to an infraction =\", pleadguilty_inf.sum()\n",
      "print \"    to a misdemeanor =\", pleadguilty_mis.sum()\n",
      "print \"    to a felony =\", pleadguilty_fel.sum()\n",
      "print \"      prison =\",prison[pleadguilty_fel].sentencing.count()\n",
      "print \"      county =\",county[pleadguilty_fel].sentencing.count()\n",
      "print \"\"\n",
      "print \"\u00b7 No contest (plea bargain)\" \n",
      "print \"    to an infraction =\", nocontest.sum()\n",
      "print \"\"\n",
      "print \"\u00b7 Not guilty =\", pleadnotguilty.sum()\n",
      "print \"    and were found guilty =\", guilty.sum()\n",
      "print \"        of a misdemeanor =\", guilty_mis.sum()\n",
      "print \"        of a felony =\", guilty_fel.sum()\n",
      "print \"    and were found not guilty =\", notguilty.sum()"
     ],
     "language": "python",
     "metadata": {},
     "outputs": [
      {
       "output_type": "stream",
       "stream": "stdout",
       "text": [
        "Final Disposition: The final settlement of a criminal case.\n",
        "-----------------------------------------------------------\n",
        "Number of hit & runs sentenced = 707\n",
        "Number of sentences pending (in development, warrant...) = 70\n",
        "Number of cases dismissed = 27\n",
        "\n",
        "Number of defendants who pleaded:\n",
        "\n",
        "\u00b7 Guilty (plea bargain) = 689\n",
        "    to an infraction = 2\n",
        "    to a misdemeanor = 204\n",
        "    to a felony = 483\n",
        "      prison = 146\n",
        "      county = 276\n",
        "\n",
        "\u00b7 No contest (plea bargain)\n",
        "    to an infraction = 1\n",
        "\n",
        "\u00b7 Not guilty = 17\n",
        "    and were found guilty = 16\n",
        "        of a misdemeanor = 1\n",
        "        of a felony = 15\n",
        "    and were found not guilty = 1\n"
       ]
      }
     ],
     "prompt_number": 118
    },
    {
     "cell_type": "code",
     "collapsed": false,
     "input": [
      "from pylab import *\n",
      "figure(2, figsize=(4,4))\n",
      "axes([0.1, 0.1, 0.8, 0.8])\n",
      "fracs=[68, 28, 2, 2]\n",
      "mycolors=['blue', 'green', 'red', 'yellow']\n",
      "mylabels=['Plea Bargain:Felony=68%', 'Plea Bargain:Misdemeanor=28%', 'Found Guilt:Felony=2%', 'Others=2%']\n",
      "pie(fracs,labels=mylabels,colors=mycolors)\n",
      "show()"
     ],
     "language": "python",
     "metadata": {},
     "outputs": [
      {
       "metadata": {},
       "output_type": "display_data",
       "png": "[encoded data removed]",
       "text": [
        "<matplotlib.figure.Figure at 0x107585fd0>"
       ]
      }
     ],
     "prompt_number": 91
    },
    {
     "cell_type": "markdown",
     "metadata": {},
     "source": [
      "#Punishments by Final Disposition: Type and Length "
     ]
    },
    {
     "cell_type": "code",
     "collapsed": false,
     "input": [
      "print \"Breakdown of Avg Time Served of\",100*pleadguilty_mis.sum()/hnrsentences+100*pleadguilty_fel.sum()/hnrsentences+100*guilty_fel.sum()/hnrsentences,\"% of all hit and run sentences\"\n",
      "print \"\"\n",
      "print \"Plea Bargain Felony =\",100*pleadguilty_fel.sum()/hnrsentences,\"% of all sentences\" \n",
      "print \"------------------------------------------\"\n",
      "print \"State Prison =\", 100*prison[pleadguilty_fel].sentencing.count()/pleadguilty_fel.sum(),\"% of Plea Bargain Felony sentences\"\n",
      "print \"   Avg time in incarceration:\", prison[pleadguilty_fel].incar.mean()/30.4, \"months\"\n",
      "print \"   Avg time in probation:\", prison[pleadguilty_fel].prob.mean()/30.4, \"months\"\n",
      "print \"   Avg time in work:\", prison[pleadguilty_fel].work.mean()/30.4, \"months\"\n",
      "print \"   Avg time in program:\", prison[pleadguilty_fel].prog.mean()/30.4, \"months\"\n",
      "print \"County =\", 100*county[pleadguilty_fel].sentencing.count()/pleadguilty_fel.sum(),\"% of Plea Bargain Felony sentences\"\n",
      "print \"   Avg time in incarceration:\", county[pleadguilty_fel].incar.mean()/30.4, \"months\"\n",
      "print \"   Avg time in probation:\", county[pleadguilty_fel].prob.mean()/30.4, \"months\"\n",
      "print \"   Avg time in work:\", county[pleadguilty_fel].work.mean()/30.4, \"months\"\n",
      "print \"   Avg time in program:\", county[pleadguilty_fel].prog.mean()/30.4, \"months\"\n",
      "inc= 100*county[pleadguilty_fel].sentencing.count()/pleadguilty_fel.sum()+100*prison[pleadguilty_fel].sentencing.count()/pleadguilty_fel.sum()\n",
      "noinc=100-inc\n",
      "print \"No Incarceration =\",noinc,\"% of Plea Bargain Felony sentences\"\n",
      "print \"\"\n",
      "print \"Plea Bargain Misdemeanor =\",100*pleadguilty_mis.sum()/hnrsentences,\"% of all sentences\"\n",
      "print \"------------------------------------------\"\n",
      "print \"Avg time in incarceration:\", df[pleadguilty_mis].incar.mean()/30.4, \"months\"\n",
      "print \"Avg time in probation:\", df[pleadguilty_mis].prob.mean()/30.4, \"months\"\n",
      "print \"Avg time in work:\", df[pleadguilty_mis].work.mean()/30.4, \"months\"\n",
      "print \"Avg time in program:\", df[pleadguilty_mis].prog.mean()/30.4, \"months\" \n",
      "print \"\"\n",
      "print \"Found Guilty Felony =\",100*guilty_fel.sum()/hnrsentences,\"% of all sentences\" \n",
      "print \"------------------------------------------\"\n",
      "print \"Avg time in incarceration:\", df[guilty_fel].incar.mean()/30.4, \"months\"\n",
      "print \"Avg time in probation:\", df[guilty_fel].prob.mean()/30.4, \"months\"\n",
      "print \"Avg time in work:\", df[guilty_fel].work.mean()/30.4, \"months\"\n",
      "print \"Avg time in program:\", df[guilty_fel].prog.mean()/30.4, \"months\""
     ],
     "language": "python",
     "metadata": {},
     "outputs": [
      {
       "output_type": "stream",
       "stream": "stdout",
       "text": [
        "Breakdown of Avg Time Served of 98 % of all hit and run sentences\n",
        "\n",
        "Plea Bargain Felony = 68 % of all sentences\n",
        "------------------------------------------\n",
        "State Prison = 30 % of Plea Bargain Felony sentences\n",
        "   Avg time in incarceration: 53.4262346792 months\n",
        "   Avg time in probation: 57.2078173375 months\n",
        "   Avg time in work: 9.95065789474 months\n",
        "   Avg time in program: nan months\n",
        "County = 57 % of Plea Bargain Felony sentences\n",
        "   Avg time in incarceration: 9.25980861244 months\n",
        "   Avg time in probation: 49.7640482786 months\n",
        "   Avg time in work: 0.751244665718 months\n",
        "   Avg time in program: 12.0065789474 months\n",
        "No Incarceration = 13 % of Plea Bargain Felony sentences\n",
        "\n",
        "Plea Bargain Misdemeanor = 28 % of all sentences\n",
        "------------------------------------------\n",
        "Avg time in incarceration: 1.99765037594 months\n",
        "Avg time in probation: 45.9328609987 months\n",
        "Avg time in work: 0.295055821372 months\n",
        "Avg time in program: nan months\n",
        "\n",
        "Found Guilty Felony = 2 % of all sentences\n",
        "------------------------------------------\n",
        "Avg time in incarceration: 115.338345865 months\n",
        "Avg time in probation: 52.0285087719 months\n",
        "Avg time in work: 0.0 months\n",
        "Avg time in program: nan months\n"
       ]
      }
     ],
     "prompt_number": 141
    },
    {
     "cell_type": "markdown",
     "metadata": {},
     "source": [
      "### Should the defendant take a plea bargain?\n",
      "Only 2% didn't. Let's see how that worked out for them in comparison to those who did."
     ]
    },
    {
     "cell_type": "code",
     "collapsed": false,
     "input": [
      "# The index could be any list, but for this example, we just need \n",
      "# an integer index, one for each element \n",
      "index = (\"Found Guilty \\n Felony \\n (Prison) \\n (2%)\",\"Plea Bargain \\n Felony \\n Prison \\n (21%) \", \"Plea Bargain \\n Felony \\n County \\n (40%)\",\"Plea Bargain \\n Misdemeanor \\n County \\n (29%)\") \n",
      "\n",
      "# Create a dataframe. The Inner '{' and '}' define a dictionary, and the 'men': and 'women': part are the \n",
      "# keys in the dict. They will become the column names. The pd.Series are the column data. \n",
      "df1 = pd.DataFrame({ \n",
      "'incarceration': pd.Series((115.3 , 53.4, 8.3, 1.99), index),\n",
      "'probation': pd.Series((52.0, 57,49, 45.9), index),\n",
      "'work': pd.Series((0, 0,0.75, 0.3), index),\n",
      "'program': pd.Series((0, 0,12, 0), index) \n",
      "}) \n",
      "print df1.head() \n",
      "\n",
      "# Them making a stacked barchart is easy. \n",
      "ax1=df1.plot(kind='bar', stacked=True, title= \"Sentence Type and Length\") \n",
      "ax1.set_ylabel('Avg Time (months)')\n",
      "ax1.set_xticklabels(df1.index, rotation='horizontal')"
     ],
     "language": "python",
     "metadata": {},
     "outputs": [
      {
       "output_type": "stream",
       "stream": "stdout",
       "text": [
        "                                                incarceration  probation  \\\n",
        "Found Guilty \\n Felony \\n (Prison) \\n (2%)             115.30       52.0   \n",
        "Plea Bargain \\n Felony \\n Prison \\n (21%)               53.40       57.0   \n",
        "Plea Bargain \\n Felony \\n County \\n (40%)                8.30       49.0   \n",
        "Plea Bargain \\n Misdemeanor \\n County \\n (29%)           1.99       45.9   \n",
        "\n",
        "                                                program  work  \n",
        "Found Guilty \\n Felony \\n (Prison) \\n (2%)            0  0.00  \n",
        "Plea Bargain \\n Felony \\n Prison \\n (21%)             0  0.00  \n",
        "Plea Bargain \\n Felony \\n County \\n (40%)            12  0.75  \n",
        "Plea Bargain \\n Misdemeanor \\n County \\n (29%)        0  0.30  \n",
        "\n",
        "[4 rows x 4 columns]\n"
       ]
      },
      {
       "metadata": {},
       "output_type": "pyout",
       "prompt_number": 142,
       "text": [
        "[<matplotlib.text.Text at 0x108a74610>,\n",
        " <matplotlib.text.Text at 0x108ae7410>,\n",
        " <matplotlib.text.Text at 0x108ae7c50>,\n",
        " <matplotlib.text.Text at 0x108aeda10>]"
       ]
      },
      {
       "metadata": {},
       "output_type": "display_data",
       "png": "[encoded data removed]",
       "text": [
        "<matplotlib.figure.Figure at 0x108a43b10>"
       ]
      }
     ],
     "prompt_number": 142
    },
    {
     "cell_type": "markdown",
     "metadata": {},
     "source": [
      "The percent in parenthesis represents the proportion of the category to all hit and run sentences\n",
      "\n",
      "On the first bar, \"Found Guilty: Felony\", we see the defendants who pleaded not guilty and subsequently were found guilty of a felony. These cases usually take longer in court, and we can see that the jury/judge gives them an incarceration time 2x greater than those who took the plea bargain to felony (prison).\n",
      "\n",
      "Felons, take the plea bargain! Out of the 17 cases where the defendant pleaded non-guilty, 15 where found guilty of a felony."
     ]
    },
    {
     "cell_type": "markdown",
     "metadata": {},
     "source": [
      "#Districts: Is justice served equally?\n",
      "\n",
      "Exploring the type and length of punishments among the four districts.\n"
     ]
    },
    {
     "cell_type": "code",
     "collapsed": false,
     "input": [
      "df.district.unique()"
     ],
     "language": "python",
     "metadata": {},
     "outputs": [
      {
       "metadata": {},
       "output_type": "pyout",
       "prompt_number": 95,
       "text": [
        "array([Central, East County, North County, South County], dtype=object)"
       ]
      }
     ],
     "prompt_number": 95
    },
    {
     "cell_type": "code",
     "collapsed": false,
     "input": [
      "#distric filters\n",
      "central=df[(df.district == \"Central\")]\n",
      "east=df[(df.district == \"East County\")]\n",
      "north=df[(df.district == \"North County\")]\n",
      "south=df[(df.district == \"South County\")]\n",
      "\n",
      "print \"Plea Bargain: Felony\" \n",
      "print \"----------------------\"\n",
      "print \"Central: Avg incarceration time:\", central[pleadguilty_fel].incar.mean()/30.4, \"months. Number of cases =\",central[pleadguilty_fel].incar.count() \n",
      "print \"East:    Avg incarceration time:\", east[pleadguilty_fel].incar.mean()/30.4, \"months. Number of cases =\",east[pleadguilty_fel].incar.count() \n",
      "print \"North:   Avg incarceration time:\", north[pleadguilty_fel].incar.mean()/30.4, \"months. Number of cases =\",north[pleadguilty_fel].incar.count() \n",
      "print \"South:   Avg incarceration time:\", south[pleadguilty_fel].incar.mean()/30.4, \"months. Number of cases =\",south[pleadguilty_fel].incar.count() \n",
      "print \"Total:   Avg incarceration time:\", df[pleadguilty_fel].incar.mean()/30.4, \"months. Number of cases =\",df[pleadguilty_fel].incar.count() \n",
      "print \"\"\n",
      "print \"Plea Bargain: Misdemeanor\"\n",
      "print \"---------------------------\"\n",
      "print \"Central: Avg incarceration time:\", central[pleadguilty_mis].incar.mean()/30.4, \"months. Number of cases =\",central[pleadguilty_mis].incar.count()\n",
      "print \"East:    Avg incarceration time:\", east[pleadguilty_mis].incar.mean()/30.4, \"months. Number of cases =\",east[pleadguilty_mis].incar.count()\n",
      "print \"North:   Avg incarceration time:\", north[pleadguilty_mis].incar.mean()/30.4, \"months. Number of cases =\",north[pleadguilty_mis].incar.count()\n",
      "print \"South:   Avg incarceration time:\", south[pleadguilty_mis].incar.mean()/30.4, \"months. Number of cases =\",south[pleadguilty_mis].incar.count()\n",
      "print \"Total:   Avg incarceration time:\", df[pleadguilty_mis].incar.mean()/30.4, \"months. Number of cases =\",df[pleadguilty_mis].incar.count() "
     ],
     "language": "python",
     "metadata": {},
     "outputs": [
      {
       "output_type": "stream",
       "stream": "stdout",
       "text": [
        "Plea Bargain: Felony\n",
        "----------------------\n",
        "Central: Avg incarceration time: 24.8947368421 months. Number of cases = 130\n",
        "East:    Avg incarceration time: 25.7098684211 months. Number of cases = 50\n",
        "North:   Avg incarceration time: 22.3800438596 months. Number of cases = 150\n",
        "South:   Avg incarceration time: 23.0904605263 months. Number of cases = 80\n",
        "Total:   Avg incarceration time: 23.7220795892 months. Number of cases = 410\n",
        "\n",
        "Plea Bargain: Misdemeanor\n",
        "---------------------------\n",
        "Central: Avg incarceration time: 1.40977443609 months. Number of cases = 7\n",
        "East:    Avg incarceration time: 6.11019736842 months. Number of cases = 4\n",
        "North:   Avg incarceration time: 1.7373294347 months. Number of cases = 54\n",
        "South:   Avg incarceration time: 2.34210526316 months. Number of cases = 5\n",
        "Total:   Avg incarceration time: 1.99765037594 months. Number of cases = 70\n"
       ]
      }
     ],
     "prompt_number": 96
    },
    {
     "cell_type": "markdown",
     "metadata": {},
     "source": [
      "Upon observation, avg incarceration time does not seem unequal accross the 4 districts."
     ]
    },
    {
     "cell_type": "code",
     "collapsed": false,
     "input": [
      "#exploring predictors of prison\n",
      "print df.highest_charge.unique()\n",
      "# VC23153, VC23152 = alcohol\n",
      "# PC187 = death \n",
      "#PC191.5 = death (manslaughter) and alcohol\n",
      "# PC211, PC215 = robbery \n",
      "# PC245 = assault\n",
      "# VC10851 = theft\n",
      "# VC2800 = running away\n",
      "# VC20001 = didn't stop\n",
      "# PC273a, PC207  = child endangerment, kidnapping\n"
     ],
     "language": "python",
     "metadata": {},
     "outputs": [
      {
       "output_type": "stream",
       "stream": "stdout",
       "text": [
        "[VC23153(a) PC187(a) VC20001(a) PC211 PC245(a)(1) VC2800.2(a) VC20001(b)(2)\n",
        " PC191.5(a) PC273a(a) VC2800.3(a) PC69 VC10851(a) VC23152(a) PC215(a)\n",
        " PC207(a) PC243(d) VC23109.1(a) PC459 PC245(c) PC273.5(a) PC368(b)(1)\n",
        " PC192(c)(1) PC182(a)(1) VC23153(b) HS11379(a) VC12500(a) HS11350(a)\n",
        " PC191.5(b) HS11352(a) HS11359 PC484 & 490.5 PC187(a) - PC664 PC245(a)(4)]\n"
       ]
      }
     ],
     "prompt_number": 108
    },
    {
     "cell_type": "code",
     "collapsed": false,
     "input": [],
     "language": "python",
     "metadata": {},
     "outputs": [],
     "prompt_number": 98
    }
   ],
   "metadata": {}
  }
 ]
}