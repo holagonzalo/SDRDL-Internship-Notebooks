{
 "metadata": {
  "name": "",
  "signature": "sha256:eb5acd79a97297a0980e6fa48978b3e1fc8ae199f2146e3eeaa1e3f282d98bd0"
 },
 "nbformat": 3,
 "nbformat_minor": 0,
 "worksheets": [
  {
   "cells": [
    {
     "cell_type": "markdown",
     "metadata": {},
     "source": [
      "#Hit & Run Sentences\n",
      "###from the San Diego District Attorney's Office\n",
      "\n",
      "Exploring the time range for the sentences imposed to answer the question: if you hit a person, and drive away, what\u2019s the most likely sentence you\u2019ll face?"
     ]
    },
    {
     "cell_type": "code",
     "collapsed": false,
     "input": [
      "%matplotlib inline\n",
      "import numpy as np\n",
      "import matplotlib as mpl\n",
      "import pandas as pd\n",
      "\n",
      "df = pd.read_csv('http://devtest.sandiegodata.org.s3.amazonaws.com/manifests/7a007ac7-960f-468b-8ce3-7b9f83e34ea8/hnr0914.csv')\n",
      "print \"Total number of cases =\",len(df.index)\n",
      "print \"Between the years\",df.complaint_year.min(), \"and\", df.complaint_year.max()"
     ],
     "language": "python",
     "metadata": {},
     "outputs": [
      {
       "output_type": "stream",
       "stream": "stdout",
       "text": [
        "Total number of cases = 804\n",
        "Between the years 2009.0 and 2014.0\n"
       ]
      }
     ],
     "prompt_number": 1
    },
    {
     "cell_type": "code",
     "collapsed": false,
     "input": [
      "df['final_disposition'] = df['final_disposition'].str.replace(',', '') #removing commas from strings for clarity\\n\"\n",
      "df.final_disposition = df.final_disposition.fillna(\"No sentence yet\") #blanks in final disposition are pending\n",
      "dismissed = df['final_disposition'].str.contains(\"Dismissed\")\n",
      "nosentence = df['final_disposition'].str.contains(\"No sentence yet\")\n",
      "nocontest = df['final_disposition'].str.contains(\"No Contest Infraction\")\n",
      "df.sentencing = df.sentencing.fillna(\"\")\n",
      "county = df[df['sentencing'].str.contains(\"Local\")]\n",
      "prison = df[df['sentencing'].str.contains(\"Prison\")]\n",
      "\n",
      "#Plea Bargain\n",
      "pleadguilty = df['final_disposition'].str.contains(\"Pled Guilty\")\n",
      "pleadguilty_inf = df['final_disposition'].str.contains(\"Pled Guilty Infraction\")\n",
      "pleadguilty_mis = df['final_disposition'].str.contains(\"Pled Guilty Misdemeanor\")\n",
      "pleadguilty_fel = df['final_disposition'].str.contains(\"Pled Guilty Felony\")\n",
      "\n",
      "#Pled Not Guilty\n",
      "pleadnotguilty = df['final_disposition'].str.contains(\"Found\")\n",
      "notguilty =  df['final_disposition'].str.contains(\"Found Not Guilty\")\n",
      "guilty =  df['final_disposition'].str.contains(\"Found Guilty\")\n",
      "guilty_mis = df['final_disposition'].str.contains(\"Found Guilty Misdemeanor\")\n",
      "guilty_fel = df['final_disposition'].str.contains(\"Found Guilty Felony\")\n",
      "\n",
      "hnrsentences=notguilty.sum()+pleadnotguilty.sum()+pleadguilty.sum()\n",
      "\n",
      "print \"Final Disposition: The final settlement of a criminal case.\"\n",
      "print \"-----------------------------------------------------------\"\n",
      "print \"Number of hit & runs sentenced =\", hnrsentences\n",
      "print \"Number of sentences pending (in development, warrant...) =\", nosentence.sum()\n",
      "print \"Number of cases dismissed =\", dismissed.sum()\n",
      "print \"\"\n",
      "print \"Number of defendants who pleaded:\"\n",
      "print \"\"\n",
      "print \"\u00b7 Guilty (plea bargain) =\", pleadguilty.sum()\n",
      "print \"    to an infraction =\", pleadguilty_inf.sum()\n",
      "print \"    to a misdemeanor =\", pleadguilty_mis.sum()\n",
      "print \"    to a felony =\", pleadguilty_fel.sum()\n",
      "print \"      prison =\",prison[pleadguilty_fel].sentencing.count()\n",
      "print \"      county =\",county[pleadguilty_fel].sentencing.count()\n",
      "print \"\"\n",
      "print \"\u00b7 No contest (plea bargain)\" \n",
      "print \"    to an infraction =\", nocontest.sum()\n",
      "print \"\"\n",
      "print \"\u00b7 Not guilty =\", pleadnotguilty.sum()\n",
      "print \"    and were found guilty =\", guilty.sum()\n",
      "print \"        of a misdemeanor =\", guilty_mis.sum()\n",
      "print \"        of a felony =\", guilty_fel.sum()\n",
      "print \"    and were found not guilty =\", notguilty.sum()"
     ],
     "language": "python",
     "metadata": {},
     "outputs": [
      {
       "output_type": "stream",
       "stream": "stdout",
       "text": [
        "Final Disposition: The final settlement of a criminal case.\n",
        "-----------------------------------------------------------\n",
        "Number of hit & runs sentenced = 707\n",
        "Number of sentences pending (in development, warrant...) = 70\n",
        "Number of cases dismissed = 27\n",
        "\n",
        "Number of defendants who pleaded:\n",
        "\n",
        "\u00b7 Guilty (plea bargain) = 689\n",
        "    to an infraction = 2\n",
        "    to a misdemeanor = 204\n",
        "    to a felony = 483\n",
        "      prison = 146\n",
        "      county = 276\n",
        "\n",
        "\u00b7 No contest (plea bargain)\n",
        "    to an infraction = 1\n",
        "\n",
        "\u00b7 Not guilty = 17\n",
        "    and were found guilty = 16\n",
        "        of a misdemeanor = 1\n",
        "        of a felony = 15\n",
        "    and were found not guilty = 1\n"
       ]
      }
     ],
     "prompt_number": 12
    },
    {
     "cell_type": "code",
     "collapsed": false,
     "input": [
      "from pylab import *\n",
      "figure(2, figsize=(4,4))\n",
      "axes([0.1, 0.1, 0.8, 0.8])\n",
      "fracs=[68, 28, 2, 2]\n",
      "mycolors=['blue', 'green', 'red', 'yellow']\n",
      "mylabels=['Plea Bargain:Felony=68%', 'Plea Bargain:Misdemeanor=28%', 'Found Guilt:Felony=2%', 'Others=2%']\n",
      "pie(fracs,labels=mylabels,colors=mycolors)\n",
      "show()"
     ],
     "language": "python",
     "metadata": {},
     "outputs": [
      {
       "metadata": {},
       "output_type": "display_data",
       "png": "[encoded data removed]",
       "text": [
        "<matplotlib.figure.Figure at 0x10f46cb90>"
       ]
      }
     ],
     "prompt_number": 13
    },
    {
     "cell_type": "markdown",
     "metadata": {},
     "source": [
      "#Punishments by Final Disposition: Type and Length "
     ]
    },
    {
     "cell_type": "code",
     "collapsed": false,
     "input": [
      "print \"Breakdown of Avg Time Served of\",100*pleadguilty_mis.sum()/hnrsentences+100*pleadguilty_fel.sum()/hnrsentences+100*guilty_fel.sum()/hnrsentences,\"% of all hit and run sentences\"\n",
      "print \"\"\n",
      "print \"Plea Bargain Felony =\",100*pleadguilty_fel.sum()/hnrsentences,\"% of all sentences\" \n",
      "print \"------------------------------------------\"\n",
      "print \"State Prison =\", 100*prison[pleadguilty_fel].sentencing.count()/pleadguilty_fel.sum(),\"% of Plea Bargain Felony sentences\"\n",
      "print \"   Avg time in incarceration:\", prison[pleadguilty_fel].incar.mean()/30.4, \"months\"\n",
      "print \"   Avg time in probation:\", prison[pleadguilty_fel].prob.mean()/30.4, \"months\"\n",
      "print \"   Avg time in work:\", prison[pleadguilty_fel].work.mean()/30.4, \"months\"\n",
      "print \"   Avg time in program:\", prison[pleadguilty_fel].prog.mean()/30.4, \"months\"\n",
      "print \"County =\", 100*county[pleadguilty_fel].sentencing.count()/pleadguilty_fel.sum(),\"% of Plea Bargain Felony sentences\"\n",
      "print \"   Avg time in incarceration:\", county[pleadguilty_fel].incar.mean()/30.4, \"months\"\n",
      "print \"   Avg time in probation:\", county[pleadguilty_fel].prob.mean()/30.4, \"months\"\n",
      "print \"   Avg time in work:\", county[pleadguilty_fel].work.mean()/30.4, \"months\"\n",
      "print \"   Avg time in program:\", county[pleadguilty_fel].prog.mean()/30.4, \"months\"\n",
      "inc= 100*county[pleadguilty_fel].sentencing.count()/pleadguilty_fel.sum()+100*prison[pleadguilty_fel].sentencing.count()/pleadguilty_fel.sum()\n",
      "noinc=100-inc\n",
      "print \"No Incarceration =\",noinc,\"% of Plea Bargain Felony sentences\"\n",
      "print \"\"\n",
      "print \"Plea Bargain Misdemeanor =\",100*pleadguilty_mis.sum()/hnrsentences,\"% of all sentences\"\n",
      "print \"------------------------------------------\"\n",
      "print \"Avg time in incarceration:\", df[pleadguilty_mis].incar.mean()/30.4, \"months\"\n",
      "print \"Avg time in probation:\", df[pleadguilty_mis].prob.mean()/30.4, \"months\"\n",
      "print \"Avg time in work:\", df[pleadguilty_mis].work.mean()/30.4, \"months\"\n",
      "print \"Avg time in program:\", df[pleadguilty_mis].prog.mean()/30.4, \"months\" \n",
      "print \"\"\n",
      "print \"Found Guilty Felony =\",100*guilty_fel.sum()/hnrsentences,\"% of all sentences\" \n",
      "print \"------------------------------------------\"\n",
      "print \"Avg time in incarceration:\", df[guilty_fel].incar.mean()/30.4, \"months\"\n",
      "print \"Avg time in probation:\", df[guilty_fel].prob.mean()/30.4, \"months\"\n",
      "print \"Avg time in work:\", df[guilty_fel].work.mean()/30.4, \"months\"\n",
      "print \"Avg time in program:\", df[guilty_fel].prog.mean()/30.4, \"months\""
     ],
     "language": "python",
     "metadata": {},
     "outputs": [
      {
       "output_type": "stream",
       "stream": "stdout",
       "text": [
        "Breakdown of Avg Time Served of 98 % of all hit and run sentences\n",
        "\n",
        "Plea Bargain Felony = 68 % of all sentences\n",
        "------------------------------------------\n",
        "State Prison = 30 % of Plea Bargain Felony sentences\n",
        "   Avg time in incarceration: 53.4262346792 months\n",
        "   Avg time in probation: 57.2078173375 months\n",
        "   Avg time in work: 9.95065789474 months\n",
        "   Avg time in program: nan months\n",
        "County = 57 % of Plea Bargain Felony sentences\n",
        "   Avg time in incarceration: 9.25980861244 months\n",
        "   Avg time in probation: 49.7640482786 months\n",
        "   Avg time in work: 0.811625770507 months\n",
        "   Avg time in program: 12.0065789474 months\n",
        "No Incarceration = 13 % of Plea Bargain Felony sentences\n",
        "\n",
        "Plea Bargain Misdemeanor = 28 % of all sentences\n",
        "------------------------------------------\n",
        "Avg time in incarceration: 1.99765037594 months\n",
        "Avg time in probation: 45.9328609987 months\n",
        "Avg time in work: 0.315324295587 months\n",
        "Avg time in program: nan months\n",
        "\n",
        "Found Guilty Felony = 2 % of all sentences\n",
        "------------------------------------------\n",
        "Avg time in incarceration: 115.338345865 months\n",
        "Avg time in probation: 52.0285087719 months\n",
        "Avg time in work: 0.274122807018 months\n",
        "Avg time in program: nan months\n"
       ]
      }
     ],
     "prompt_number": 14
    },
    {
     "cell_type": "markdown",
     "metadata": {},
     "source": [
      "# Visualizing: Take to trial or take plea bargain\n",
      "\n",
      "### Should the defendant take a plea bargain?\n",
      "Only 2% didn't. Let's see how that worked out for them in comparison to those who did."
     ]
    },
    {
     "cell_type": "code",
     "collapsed": false,
     "input": [
      "index = (\"Found Guilty \\n Felony \\n Prison \\n (2%)\",\"Plea Bargain \\n Felony \\n Prison \\n (21%) \", \"Plea Bargain \\n Felony \\n County \\n (40%)\",\"Plea Bargain \\n Misdemeanor \\n County \\n (29%)\") \n",
      "df1 = pd.DataFrame({ \n",
      "'incarceration': pd.Series((115.3 , 53.4, 8.3, 1.99), index),\n",
      "'probation': pd.Series((52.0, 57,49, 45.9), index),\n",
      "'work': pd.Series((0, 0,0.75, 0.3), index),\n",
      "'program': pd.Series((0, 0,12, 0), index) \n",
      "}) \n",
      "print df1.head() \n",
      "\n",
      "ax1=df1.plot(kind='bar', stacked=True, title= \"Sentence Type and Length\") \n",
      "ax1.set_ylabel('Avg Time (months)')\n",
      "ax1.set_xticklabels(df1.index, rotation='horizontal')\n",
      "\n",
      "# Shrink current axis by %\n",
      "box = ax1.get_position()\n",
      "ax1.set_position([box.x0, box.y0, box.width * 1.2, box.height])\n",
      "\n",
      "# Put a legend to the right of the current axis\n",
      "ax1.legend(loc='center left', bbox_to_anchor=(1, 0.5))"
     ],
     "language": "python",
     "metadata": {},
     "outputs": [
      {
       "output_type": "stream",
       "stream": "stdout",
       "text": [
        "                                                incarceration  probation  \\\n",
        "Found Guilty \\n Felony \\n Prison \\n (2%)               115.30       52.0   \n",
        "Plea Bargain \\n Felony \\n Prison \\n (21%)               53.40       57.0   \n",
        "Plea Bargain \\n Felony \\n County \\n (40%)                8.30       49.0   \n",
        "Plea Bargain \\n Misdemeanor \\n County \\n (29%)           1.99       45.9   \n",
        "\n",
        "                                                program  work  \n",
        "Found Guilty \\n Felony \\n Prison \\n (2%)              0  0.00  \n",
        "Plea Bargain \\n Felony \\n Prison \\n (21%)             0  0.00  \n",
        "Plea Bargain \\n Felony \\n County \\n (40%)            12  0.75  \n",
        "Plea Bargain \\n Misdemeanor \\n County \\n (29%)        0  0.30  \n",
        "\n",
        "[4 rows x 4 columns]\n"
       ]
      },
      {
       "metadata": {},
       "output_type": "pyout",
       "prompt_number": 12,
       "text": [
        "<matplotlib.legend.Legend at 0x1066f7790>"
       ]
      },
      {
       "metadata": {},
       "output_type": "display_data",
       "png": "[encoded data removed]",
       "text": [
        "<matplotlib.figure.Figure at 0x1062d7b50>"
       ]
      }
     ],
     "prompt_number": 12
    },
    {
     "cell_type": "markdown",
     "metadata": {},
     "source": [
      "The percent in parenthesis represents the proportion of the category to all hit and run sentences\n",
      "\n",
      "On the first bar, \"Found Guilty: Felony\", we see the defendants who pleaded not guilty and subsequently were found guilty of a felony. These cases usually take longer in court, and we can see that the jury/judge gives them an incarceration time 2x greater than those who took the plea bargain to felony (prison).\n",
      "\n",
      "Felons, take the plea bargain! Out of the 17 cases where the defendant pleaded non-guilty, 15 where found guilty of a felony."
     ]
    },
    {
     "cell_type": "markdown",
     "metadata": {},
     "source": [
      "#Districts: Is justice served equally?\n",
      "\n",
      "Exploring the type and length of punishments among the four districts.\n"
     ]
    },
    {
     "cell_type": "code",
     "collapsed": false,
     "input": [
      "df.district.unique()"
     ],
     "language": "python",
     "metadata": {},
     "outputs": [
      {
       "metadata": {},
       "output_type": "pyout",
       "prompt_number": 16,
       "text": [
        "array([Central, East County, North County, South County], dtype=object)"
       ]
      }
     ],
     "prompt_number": 16
    },
    {
     "cell_type": "code",
     "collapsed": false,
     "input": [
      "#distric filters\n",
      "central=df[(df.district == \"Central\")]\n",
      "east=df[(df.district == \"East County\")]\n",
      "north=df[(df.district == \"North County\")]\n",
      "south=df[(df.district == \"South County\")]\n",
      "\n",
      "print \"Plea Bargain: Felony\" \n",
      "print \"----------------------\"\n",
      "print \"Central: Avg incarceration time:\", central[pleadguilty_fel].incar.mean()/30.4, \"months. Number of cases =\",central[pleadguilty_fel].incar.count() \n",
      "print \"East:    Avg incarceration time:\", east[pleadguilty_fel].incar.mean()/30.4, \"months. Number of cases =\",east[pleadguilty_fel].incar.count() \n",
      "print \"North:   Avg incarceration time:\", north[pleadguilty_fel].incar.mean()/30.4, \"months. Number of cases =\",north[pleadguilty_fel].incar.count() \n",
      "print \"South:   Avg incarceration time:\", south[pleadguilty_fel].incar.mean()/30.4, \"months. Number of cases =\",south[pleadguilty_fel].incar.count() \n",
      "print \"Total:   Avg incarceration time:\", df[pleadguilty_fel].incar.mean()/30.4, \"months. Number of cases =\",df[pleadguilty_fel].incar.count() \n",
      "print \"\"\n",
      "print \"Plea Bargain: Misdemeanor\"\n",
      "print \"---------------------------\"\n",
      "print \"Central: Avg incarceration time:\", central[pleadguilty_mis].incar.mean()/30.4, \"months. Number of cases =\",central[pleadguilty_mis].incar.count()\n",
      "print \"East:    Avg incarceration time:\", east[pleadguilty_mis].incar.mean()/30.4, \"months. Number of cases =\",east[pleadguilty_mis].incar.count()\n",
      "print \"North:   Avg incarceration time:\", north[pleadguilty_mis].incar.mean()/30.4, \"months. Number of cases =\",north[pleadguilty_mis].incar.count()\n",
      "print \"South:   Avg incarceration time:\", south[pleadguilty_mis].incar.mean()/30.4, \"months. Number of cases =\",south[pleadguilty_mis].incar.count()\n",
      "print \"Total:   Avg incarceration time:\", df[pleadguilty_mis].incar.mean()/30.4, \"months. Number of cases =\",df[pleadguilty_mis].incar.count() "
     ],
     "language": "python",
     "metadata": {},
     "outputs": [
      {
       "output_type": "stream",
       "stream": "stdout",
       "text": [
        "Plea Bargain: Felony\n",
        "----------------------\n",
        "Central: Avg incarceration time: 24.8947368421 months. Number of cases = 130\n",
        "East:    Avg incarceration time: 25.7098684211 months. Number of cases = 50\n",
        "North:   Avg incarceration time: 22.3800438596 months. Number of cases = 150\n",
        "South:   Avg incarceration time: 23.0904605263 months. Number of cases = 80\n",
        "Total:   Avg incarceration time: 23.7220795892 months. Number of cases = 410\n",
        "\n",
        "Plea Bargain: Misdemeanor\n",
        "---------------------------\n",
        "Central: Avg incarceration time: 1.40977443609 months. Number of cases = 7\n",
        "East:    Avg incarceration time: 6.11019736842 months. Number of cases = 4\n",
        "North:   Avg incarceration time: 1.7373294347 months. Number of cases = 54\n",
        "South:   Avg incarceration time: 2.34210526316 months. Number of cases = 5\n",
        "Total:   Avg incarceration time: 1.99765037594 months. Number of cases = 70\n"
       ]
      }
     ],
     "prompt_number": 17
    },
    {
     "cell_type": "markdown",
     "metadata": {},
     "source": [
      "Upon observation, avg incarceration time does not seem unequal accross the 4 districts."
     ]
    },
    {
     "cell_type": "heading",
     "level": 1,
     "metadata": {},
     "source": [
      "Length of Sentence by Highest Charge"
     ]
    },
    {
     "cell_type": "code",
     "collapsed": false,
     "input": [
      "#grouping highest charge\n",
      "print \"Top 10 HnR sentences ranked by Highest Charge\"\n",
      "print df['highest_charge'].value_counts().head(10)\n",
      "print \"\"\n",
      "# VC12500 = Driving Without A License \n",
      "nolic = df['highest_charge'].str.contains(\"VC12500\")\n",
      "print \"Driving w/o a licence =\", len(df[nolic])\n",
      "print \"No incarceration is given =\",df[nolic].incar.isnull().sum()\n",
      "print \"Incarceration rate =\", 100 - 100*df[nolic].incar.isnull().sum()/len(df[nolic]),\"%\"\n",
      "print \"---incar time in months---\"\n",
      "print df[nolic].incar.describe()/30.4\n",
      "print \"\"\n",
      "\n",
      "# PC245 = Assault with deadly weapon\n",
      "adw = df['highest_charge'].str.contains(\"PC245\")\n",
      "print \"Assault with deadly weapon =\", len(df[adw])\n",
      "print \"No incarceration is given =\",df[adw].incar.isnull().sum()\n",
      "print \"Incarceration rate =\", 100 - 100*df[adw].incar.isnull().sum()/len(df[adw]),\"%\"\n",
      "print \"---incar time in months---\"\n",
      "print df[adw].incar.describe()/30.4\n",
      "print \"\"\n",
      "\n",
      "# VC20001 = Failing to Stop after an Accident (Injury or Death)\n",
      "failtostop = df['highest_charge'].str.contains(\"VC20001\")\n",
      "print \"Failing to Stop after an Accident =\", len(df[failtostop])\n",
      "print \"No incarceration is given =\",df[failtostop].incar.isnull().sum()\n",
      "print \"Incarceration rate =\", 100 - 100*df[failtostop].incar.isnull().sum()/len(df[failtostop]),\"%\"\n",
      "print \"---incar time in months---\"\n",
      "print df[failtostop].incar.describe()/30.4\n",
      "print \"\"\n",
      "\n",
      "# VC2800 = Reckless Evading (Compliance with Peace Officer Orders)\n",
      "runningaway = df['highest_charge'].str.contains(\"VC2800\")\n",
      "print \"Reckless Evading =\", len(df[runningaway])\n",
      "print \"No incarceration is given =\",df[runningaway].incar.isnull().sum()\n",
      "print \"Incarceration rate =\",100- 100*df[runningaway].incar.isnull().sum()/len(df[runningaway]),\"%\"\n",
      "print \"---incar time in months---\"\n",
      "print df[runningaway].incar.describe()/30.4\n",
      "print \"\"\n",
      "\n",
      "# VC23153 & VC23152 = DUI\n",
      "dui = df['highest_charge'].str.contains(\"VC2315\")\n",
      "print \"Drunk Driving =\", len(df[dui])\n",
      "print \"No incarceration is given =\",df[dui].incar.isnull().sum()\n",
      "print \"Incarceration rate =\",100- 100*df[dui].incar.isnull().sum()/len(df[dui]),\"%\"\n",
      "print \"---incar time in months---\"\n",
      "print df[dui].incar.describe()/30.4\n",
      "print \"\"\n",
      "\n",
      "# PC192 = Vehicular Manslaughter\n",
      "manslaughter = df['highest_charge'].str.contains(\"PC192\")\n",
      "print \"Vehicular Manslaughter =\", len(df[manslaughter])\n",
      "print \"No incarceration is given =\",df[manslaughter].incar.isnull().sum()\n",
      "print \"Incarceration rate =\",100- 100*df[manslaughter].incar.isnull().sum()/len(df[manslaughter]),\"%\"\n",
      "print \"---incar time in months---\"\n",
      "print df[manslaughter].incar.describe()/30.4\n",
      "print \"\"\n",
      "\n",
      "# PC191.5 = Vehicular Manslaughter (while intoxicated)\n",
      "manslaughterdui = df['highest_charge'].str.contains(\"PC191\")\n",
      "print \"Vehicular Manslaughter While Drunk =\", len(df[manslaughterdui])\n",
      "print \"No incarceration is given =\",df[manslaughterdui].incar.isnull().sum()\n",
      "print \"Incarceration rate =\",100- 100*df[manslaughterdui].incar.isnull().sum()/len(df[manslaughterdui]),\"%\"\n",
      "print \"---incar time in months---\"\n",
      "print df[manslaughterdui].incar.describe()/30.4\n",
      "print \"\"\n",
      "\n",
      "\n",
      "\n",
      "# VC12500 = Driving Without A License \n",
      "# VC20001 = Failing to Stop after an Accident (Injury or Death)\n",
      "# VC2800 = Reckless Evading (Compliance with Peace Officer Orders)\n",
      "# VC10851 = Theft and Unlawful Taking or Driving of a Vehicle \n",
      "# VC12500 = Driving Without A License \n",
      "# VC23109 = Exhibition of Speed\n",
      "# VC23153 & VC23152 = DUI\n",
      "\n",
      "# PC245 = Assault with deadly weapon\n",
      "# PC192 = Vehicular Manslaughter\n",
      "# PC191.5 = Vehicular Manslaughter (while intoxicated)\n",
      "# PC664 = Attempted Murder\n",
      "# PC187 = Murder \n",
      "# PC69 = Resisting an Executive Officer\n",
      "# PC273 = Child Endangerment\n",
      "# PC368 = Elder Abuse\n",
      "# PC207 = Kidnapping\n",
      "# PC243 = Domestic Battery\n",
      "# PC484 = Petty Theft\n",
      "# PC490 = Petty Theft\n",
      "# PC211 = Robbery \n",
      "# PC215 = Carjacking \n",
      "# PC182 = Criminal Conspiracy\n",
      "# PC459 = Burglary\n",
      "\n",
      "# HS11359 = Drugs (Marihuana)\n",
      "# HS11350 = Drugs (Heroin/Opiates)\n",
      "# HS11352 = Drugs (Cocaine)\n",
      "# HS11379 = Drugs (Methamphetamine)\n"
     ],
     "language": "python",
     "metadata": {},
     "outputs": [
      {
       "output_type": "stream",
       "stream": "stdout",
       "text": [
        "Top 10 HnR sentences ranked by Highest Charge\n",
        "VC23153(a)       322\n",
        "VC20001(a)       298\n",
        "PC245(a)(1)       38\n",
        "VC20001(b)(2)     32\n",
        "VC2800.2(a)       17\n",
        "VC10851(a)        14\n",
        "PC191.5(a)        11\n",
        "VC2800.3(a)       10\n",
        "PC273a(a)          9\n",
        "VC23152(a)         6\n",
        "dtype: int64\n",
        "\n",
        "Driving w/o a licence = 1\n",
        "No incarceration is given = 1\n",
        "Incarceration rate = 0 %\n",
        "---incar time in months---\n",
        "count     0\n",
        "mean    NaN\n",
        "std     NaN\n",
        "min     NaN\n",
        "25%     NaN\n",
        "50%     NaN\n",
        "75%     NaN\n",
        "max     NaN\n",
        "Name: incar, dtype: float64\n",
        "\n",
        "Assault with deadly weapon = 43\n",
        "No incarceration is given = 17\n",
        "Incarceration rate = 61 %\n",
        "---incar time in months---\n",
        "count     0.855263\n",
        "mean     24.989879\n",
        "std      22.886390\n",
        "min       0.164474\n",
        "25%       9.128289\n",
        "50%      12.006579\n",
        "75%      36.019737\n",
        "max      80.032895\n",
        "Name: incar, dtype: float64\n",
        "\n",
        "Failing to Stop after an Accident = 330\n",
        "No incarceration is given = 178\n",
        "Incarceration rate = 47 %\n",
        "---incar time in months---\n",
        "count     5.000000\n",
        "mean     10.899411\n",
        "std      13.302706\n",
        "min       0.032895\n",
        "25%       3.881579\n",
        "50%       6.726974\n",
        "75%      12.006579\n",
        "max      96.052632\n",
        "Name: incar, dtype: float64\n",
        "\n",
        "Reckless Evading = 27\n",
        "No incarceration is given = 4\n",
        "Incarceration rate = 86 %\n",
        "---incar time in months---\n",
        "count      0.756579\n",
        "mean      51.500286\n",
        "std       42.672725\n",
        "min        0.065789\n",
        "25%       18.009868\n",
        "50%       48.026316\n",
        "75%       68.042763\n",
        "max      180.098684\n",
        "Name: incar, dtype: float64\n",
        "\n",
        "Drunk Driving = 329\n",
        "No incarceration is given = 92\n",
        "Incarceration rate = 73 %\n",
        "---incar time in months---\n",
        "count      7.796053\n",
        "mean      17.123584\n",
        "std       26.050733\n",
        "min        0.065789\n",
        "25%        3.157895\n",
        "50%        7.894737\n",
        "75%       14.868421\n",
        "max      200.098684\n",
        "Name: incar, dtype: float64\n",
        "\n",
        "Vehicular Manslaughter = 3\n",
        "No incarceration is given = 2\n",
        "Incarceration rate = 34 %\n",
        "---incar time in months---\n",
        "count     0.032895\n",
        "mean     52.039474\n",
        "std            NaN\n",
        "min      52.039474\n",
        "25%      52.039474\n",
        "50%      52.039474\n",
        "75%      52.039474\n",
        "max      52.039474\n",
        "Name: incar, dtype: float64\n",
        "\n",
        "Vehicular Manslaughter While Drunk = 13\n",
        "No incarceration is given = 3\n",
        "Incarceration rate ="
       ]
      },
      {
       "output_type": "stream",
       "stream": "stdout",
       "text": [
        " 77 %\n",
        "---incar time in months---\n",
        "count      0.328947\n",
        "mean     138.075658\n",
        "std       68.471607\n",
        "min       48.026316\n",
        "25%       81.052632\n",
        "50%      132.072368\n",
        "75%      177.097039\n",
        "max      264.144737\n",
        "Name: incar, dtype: float64\n",
        "\n"
       ]
      }
     ],
     "prompt_number": 31
    },
    {
     "cell_type": "code",
     "collapsed": false,
     "input": [
      "index2 = (\"Fail to stop\\naccident w/\\ninjury\\n(47%)\",\n",
      "         \"Reckless\\nEvading\\n\\n(86%)\", \n",
      "         \"Drunk\\nDriving\\n\\n(73%)\",\n",
      "         \"Assault w/\\ndeadly\\nweapon\\n(61%)\",\n",
      "         \"Vehicular\\nManslghtr\\n\\n(34%)\",\n",
      "         \"Vehicular\\nManslghtr\\nDrunk\\n(77%)\") \n",
      "df2 = pd.DataFrame({ \n",
      "'incarceration': pd.Series((10.9,51.5,17.1,25.0,52.0,138.1), index2),\n",
      "'probation': pd.Series((39, 42,58.1, 38, 36.0,0), index2),\n",
      "'work': pd.Series((0.65, 0.8,2.5,0.66, 0,0), index2),\n",
      "'program': pd.Series((0, 0,0,12, 0,0), index2) \n",
      "}) \n",
      "print df2.head() \n",
      "\n",
      "ax2=df2.plot(kind='bar', legend=True, stacked=True, title= \"Incarceration by Highest Charge\\n(Incarceration rates in parenthesis)\") \n",
      "ax2.set_ylabel('Avg Time (months)')\n",
      "ax2.set_xticklabels(df2.index, rotation='horizontal')\n",
      "\n",
      "\n",
      "# Shrink current axis by %\n",
      "box = ax2.get_position()\n",
      "ax2.set_position([box.x0, box.y0, box.width * 1.2, box.height])\n",
      "\n",
      "# Put a legend to the right of the current axis\n",
      "ax2.legend(loc='center left', bbox_to_anchor=(1, 0.5))"
     ],
     "language": "python",
     "metadata": {},
     "outputs": [
      {
       "output_type": "stream",
       "stream": "stdout",
       "text": [
        "                                          incarceration  probation  program  \\\n",
        "Fail to stop\\naccident w/\\ninjury\\n(47%)           10.9       39.0        0   \n",
        "Reckless\\nEvading\\n\\n(86%)                         51.5       42.0        0   \n",
        "Drunk\\nDriving\\n\\n(73%)                            17.1       58.1        0   \n",
        "Assault w/\\ndeadly\\nweapon\\n(61%)                  25.0       38.0       12   \n",
        "Vehicular\\nManslghtr\\n\\n(34%)                      52.0       36.0        0   \n",
        "\n",
        "                                          work  \n",
        "Fail to stop\\naccident w/\\ninjury\\n(47%)  0.65  \n",
        "Reckless\\nEvading\\n\\n(86%)                0.80  \n",
        "Drunk\\nDriving\\n\\n(73%)                   2.50  \n",
        "Assault w/\\ndeadly\\nweapon\\n(61%)         0.66  \n",
        "Vehicular\\nManslghtr\\n\\n(34%)             0.00  \n",
        "\n",
        "[5 rows x 4 columns]\n"
       ]
      },
      {
       "metadata": {},
       "output_type": "pyout",
       "prompt_number": 43,
       "text": [
        "<matplotlib.legend.Legend at 0x106de7810>"
       ]
      },
      {
       "metadata": {},
       "output_type": "display_data",
       "png": "[encoded data removed]",
       "text": [
        "<matplotlib.figure.Figure at 0x106ce30d0>"
       ]
      }
     ],
     "prompt_number": 43
    },
    {
     "cell_type": "markdown",
     "metadata": {},
     "source": [
      "- The incarceration rates could come from small samples \n",
      "   - (e.g.: Vehicular manslaughter cases = 3, No incarceration given = 2). \n",
      "- The incarceration rate represents the % of defendants found guilty that did incarceration time.\n",
      "- The complement (100-%) represents % of defendants found guilty, but no incarceration time was given."
     ]
    },
    {
     "cell_type": "code",
     "collapsed": false,
     "input": [
      "index3 = (\"Fail to stop\\naccident w/\\ninjury\",\n",
      "         \"Reckless\\nEvading\", \n",
      "         \"Drunk\\nDriving\",\n",
      "         \"Assault w/\\ndeadly\\nweapon\",\n",
      "         \"Vehicular\\nManslghtr\",\n",
      "         \"Vehicular\\nManslghtr\\nDrunk\") \n",
      "df3 = pd.DataFrame({ \n",
      "'Incarceration': pd.Series(( 152, 23, 237, 26,1 ,10), index3),\n",
      "'No Incarceration': pd.Series((-178,-4 ,-92 ,-17,-2,-3), index3)\n",
      "}) \n",
      "print df3.head() \n",
      "\n",
      "ax3=df3.plot(kind='bar', legend=True, stacked=True, title= \"HnR by Highest Charge (Guilty)\") \n",
      "ax3.set_ylabel('# of cases')\n",
      "ax3.set_xticklabels(df3.index, rotation='horizontal')\n",
      "\n",
      "\n",
      "# Shrink current axis by %\n",
      "box = ax3.get_position()\n",
      "ax3.set_position([box.x0, box.y0, box.width * 1.2, box.height])\n",
      "\n",
      "# Put a legend to the right of the current axis\n",
      "ax3.legend(loc='center left', bbox_to_anchor=(1, 0.5))"
     ],
     "language": "python",
     "metadata": {},
     "outputs": [
      {
       "output_type": "stream",
       "stream": "stdout",
       "text": [
        "                                   Incarceration  No Incarceration\n",
        "Fail to stop\\naccident w/\\ninjury            152              -178\n",
        "Reckless\\nEvading                             23                -4\n",
        "Drunk\\nDriving                               237               -92\n",
        "Assault w/\\ndeadly\\nweapon                    26               -17\n",
        "Vehicular\\nManslghtr                           1                -2\n",
        "\n",
        "[5 rows x 2 columns]\n"
       ]
      },
      {
       "metadata": {},
       "output_type": "pyout",
       "prompt_number": 55,
       "text": [
        "<matplotlib.legend.Legend at 0x10724c250>"
       ]
      },
      {
       "metadata": {},
       "output_type": "display_data",
       "png": "[encoded data removed]",
       "text": [
        "<matplotlib.figure.Figure at 0x1070df590>"
       ]
      }
     ],
     "prompt_number": 55
    },
    {
     "cell_type": "code",
     "collapsed": false,
     "input": [],
     "language": "python",
     "metadata": {},
     "outputs": []
    }
   ],
   "metadata": {}
  }
 ]
}