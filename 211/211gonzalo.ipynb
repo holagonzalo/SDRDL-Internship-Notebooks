{
 "metadata": {
  "name": "",
  "signature": "sha256:139dae528cf8063974118324b5d6b6de66e01501e8f01a67cd905821e08ce65d"
 },
 "nbformat": 3,
 "nbformat_minor": 0,
 "worksheets": [
  {
   "cells": [
    {
     "cell_type": "markdown",
     "metadata": {},
     "source": [
      "See the [data manifest documentation]( http://devtest.sandiegodata.org.s3.amazonaws.com/manifests/fc22cee6-acfa-4236-a6cb-e0d887eba178/documentation.html) for details about the dataset. The [data schema](http://devtest.sandiegodata.org.s3.amazonaws.com/manifests/fc22cee6-acfa-4236-a6cb-e0d887eba178/p02J001002.html) is most valueable. "
     ]
    },
    {
     "cell_type": "code",
     "collapsed": false,
     "input": [
      "import numpy as np\n",
      "import pandas as pd\n",
      "import matplotlib.pyplot as plt\n",
      "\n",
      "# You'll probably need to run 'sudo pip install sdipylib' for this to work\n",
      "from  sdipylib.url import cache_url\n",
      "pd.__version__"
     ],
     "language": "python",
     "metadata": {},
     "outputs": [
      {
       "metadata": {},
       "output_type": "pyout",
       "prompt_number": 11,
       "text": [
        "'0.13.1'"
       ]
      }
     ],
     "prompt_number": 11
    },
    {
     "cell_type": "code",
     "collapsed": false,
     "input": [
      "# cache_url will download the URL and store it in a local file, but when it is called a second time, it uses the\n",
      "# downloaded file. You'll have to delete the file externally to get an update. \n",
      "fn = cache_url('http://devtest.sandiegodata.org.s3.amazonaws.com/manifests/fc22cee6-acfa-4236-a6cb-e0d887eba178/211_service_calls.csv')\n",
      "print fn\n",
      "# Read_csv guesses that some columns are numbers, and complains when a string appears, so we have to be \n",
      "# explicit about the datatyps of these columns. \n",
      "df = pd.read_csv(fn,dtype =  {16: str, 26: str, 27: str, 29: str})"
     ],
     "language": "python",
     "metadata": {},
     "outputs": [
      {
       "output_type": "stream",
       "stream": "stdout",
       "text": [
        "Wrote 6828758 bytes, total 335652489\n"
       ]
      },
      {
       "output_type": "stream",
       "stream": "stdout",
       "text": [
        "/Users/eric/proj/Notebooks/pdp-data-projects/211sandiego.org/servicecalls/analysts/211_service_calls.csv\n"
       ]
      }
     ],
     "prompt_number": 28
    },
    {
     "cell_type": "code",
     "collapsed": false,
     "input": [
      "df[(df.hshld_pct_fpl < 1000000) & (df.hshld_pct_fpl > 0) ].hshld_pct_fpl.describe()"
     ],
     "language": "python",
     "metadata": {},
     "outputs": [
      {
       "metadata": {},
       "output_type": "pyout",
       "prompt_number": 3,
       "text": [
        "count    457832.000000\n",
        "mean        140.876510\n",
        "std        1201.832977\n",
        "min           0.010000\n",
        "25%          45.000000\n",
        "50%          83.000000\n",
        "75%         112.000000\n",
        "max      216000.000000\n",
        "Name: hshld_pct_fpl, dtype: float64"
       ]
      }
     ],
     "prompt_number": 3
    },
    {
     "cell_type": "code",
     "collapsed": false,
     "input": [
      "df[(df.hshld_income < 100000) & (df.hshld_income > 0) ].hshld_income.hist()"
     ],
     "language": "python",
     "metadata": {},
     "outputs": [
      {
       "metadata": {},
       "output_type": "pyout",
       "prompt_number": 4,
       "text": [
        "<matplotlib.axes.AxesSubplot at 0x126d24250>"
       ]
      }
     ],
     "prompt_number": 4
    },
    {
     "cell_type": "code",
     "collapsed": false,
     "input": [
      "df.race.unique()"
     ],
     "language": "python",
     "metadata": {},
     "outputs": [
      {
       "metadata": {},
       "output_type": "pyout",
       "prompt_number": 5,
       "text": [
        "array([nan, 'African American', 'Hispanic/Latino - Mexican American',\n",
        "       'Hispanic/Latino - Spanish', 'White - Latino', 'White - Caucasian',\n",
        "       'Hispanic/Latino - Argentinian', 'Hispanic/Latino - Chicano',\n",
        "       'Hispanic/Latino - Mexican', 'Declined to State',\n",
        "       'Asian - Filipino', 'Hispanic/Latino - Puerto Rican',\n",
        "       'African - Somali', 'Native Hawaiian', 'American Indian',\n",
        "       'Pacific Islander', 'White - Eastern European/Ukrainian',\n",
        "       'White - Eastern European/Russian', 'Hispanic/Latino - Nicaraguan',\n",
        "       'Asian - Chinese', 'Other', 'White - Middle Eastern/Arab',\n",
        "       'African - Sudanese', 'Hispanic/Latino - Cuban',\n",
        "       'White - Middle Eastern/Iraqi',\n",
        "       'White - Middle Eastern/Indo-European', 'White - Armenian',\n",
        "       'Asian - Vietnamese', 'Hispanic/Latino - Salvadoran',\n",
        "       'White - Middle Eastern/Turkic', 'African - Ethiopian',\n",
        "       'Asian - Bangladesh', 'African - Burundi', 'African - Eritrean',\n",
        "       'Asian - Indian', 'Asian - Malaysian', 'Asian - Laotian',\n",
        "       'Hispanic/Latino - Colombian', 'Asian - Pakistani',\n",
        "       'African - Kenyan', 'Asian - Japanese',\n",
        "       'White - Middle Eastern/Israelite', 'Alaska Native',\n",
        "       'Asian - Indonesian', 'African - Congolese',\n",
        "       'White - Middle Eastern/Syriac', 'Asian - Cambodian',\n",
        "       'Asian - Korean', 'Hispanic/Latino - Dominican',\n",
        "       'Biracial/multi-ethnic', 'Asian - Southeast Asia', 'Asian - Thai',\n",
        "       'Asian - Karen', 'Asian - Hmong', 'African - Haitian',\n",
        "       'Asian - Indian Subcontinent', 'Asian - Burmese',\n",
        "       'Not appropriate for this call', 'Did not ask', 'Call dropped',\n",
        "       'Call disconnected'], dtype=object)"
       ]
      }
     ],
     "prompt_number": 5
    },
    {
     "cell_type": "code",
     "collapsed": false,
     "input": [
      "df.race.fillna('').str.contains('White')"
     ],
     "language": "python",
     "metadata": {},
     "outputs": [
      {
       "metadata": {},
       "output_type": "pyout",
       "prompt_number": 26,
       "text": [
        "0     False\n",
        "1     False\n",
        "2     False\n",
        "3     False\n",
        "4     False\n",
        "5     False\n",
        "6     False\n",
        "7     False\n",
        "8     False\n",
        "9     False\n",
        "10    False\n",
        "11    False\n",
        "12    False\n",
        "13    False\n",
        "14    False\n",
        "...\n",
        "894540    False\n",
        "894541    False\n",
        "894542    False\n",
        "894543    False\n",
        "894544    False\n",
        "894545    False\n",
        "894546    False\n",
        "894547    False\n",
        "894548    False\n",
        "894549    False\n",
        "894550    False\n",
        "894551    False\n",
        "894552    False\n",
        "894553    False\n",
        "894554    False\n",
        "Name: race, Length: 894555, dtype: bool"
       ]
      }
     ],
     "prompt_number": 26
    },
    {
     "cell_type": "code",
     "collapsed": false,
     "input": [
      "df.hshld_size_code.nunique()"
     ],
     "language": "python",
     "metadata": {},
     "outputs": [
      {
       "metadata": {},
       "output_type": "pyout",
       "prompt_number": 32,
       "text": [
        "7"
       ]
      }
     ],
     "prompt_number": 32
    },
    {
     "cell_type": "code",
     "collapsed": false,
     "input": [],
     "language": "python",
     "metadata": {},
     "outputs": []
    }
   ],
   "metadata": {}
  }
 ]
}