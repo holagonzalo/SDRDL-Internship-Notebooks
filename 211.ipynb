{
 "metadata": {
  "name": "",
  "signature": "sha256:631385d13519b53f4533c31a5a28459307c66a9eaddb4859c9a32bce8f1de301"
 },
 "nbformat": 3,
 "nbformat_minor": 0,
 "worksheets": [
  {
   "cells": [
    {
     "cell_type": "markdown",
     "metadata": {},
     "source": [
      "#211 Data Exploration"
     ]
    },
    {
     "cell_type": "markdown",
     "metadata": {},
     "source": [
      "See the [data manifest documentation]( http://devtest.sandiegodata.org.s3.amazonaws.com/manifests/fc22cee6-acfa-4236-a6cb-e0d887eba178/documentation.html) for details about the dataset. The [data schema](http://devtest.sandiegodata.org.s3.amazonaws.com/manifests/fc22cee6-acfa-4236-a6cb-e0d887eba178/p02J001002.html) is most valueable. "
     ]
    },
    {
     "cell_type": "code",
     "collapsed": false,
     "input": [
      "%matplotlib inline\n",
      "import numpy as np\n",
      "import pandas as pd\n",
      "import matplotlib.pyplot as plt\n",
      "pd.options.display.max_columns = 50\n",
      "# You'll probably need to run 'sudo pip install sdipylib' for this to work\n",
      "from  sdipylib.url import cache_url\n",
      "\n",
      "pd.__version__"
     ],
     "language": "python",
     "metadata": {},
     "outputs": [
      {
       "metadata": {},
       "output_type": "pyout",
       "prompt_number": 224,
       "text": [
        "'0.13.1'"
       ]
      }
     ],
     "prompt_number": 224
    },
    {
     "cell_type": "code",
     "collapsed": false,
     "input": [
      "# cache_url will download the URL and store it in a local file, but when it is called a second time, it uses the\n",
      "# downloaded file. You'll have to delete the file externally to get an update. \n",
      "fn = cache_url('http://devtest.sandiegodata.org.s3.amazonaws.com/manifests/fc22cee6-acfa-4236-a6cb-e0d887eba178/211_service_calls.csv')\n",
      "print fn\n",
      "\n",
      "# Read_csv guesses that some columns are numbers, and complains when a string appears, so we have to be \n",
      "# explicit about the datatyps of these columns. \n",
      "df = pd.read_csv(fn,dtype =  {16: str, 26: str, 27: str, 29: str})"
     ],
     "language": "python",
     "metadata": {},
     "outputs": [
      {
       "output_type": "stream",
       "stream": "stdout",
       "text": [
        "/Users/Gonzalo/IPython Notebooks/211_service_calls.csv\n"
       ]
      }
     ],
     "prompt_number": 225
    },
    {
     "cell_type": "markdown",
     "metadata": {},
     "source": [
      "###Quick glimpse of the dataset"
     ]
    },
    {
     "cell_type": "code",
     "collapsed": false,
     "input": [
      "df.info()"
     ],
     "language": "python",
     "metadata": {},
     "outputs": [
      {
       "output_type": "stream",
       "stream": "stdout",
       "text": [
        "<class 'pandas.core.frame.DataFrame'>\n",
        "Int64Index: 894555 entries, 0 to 894554\n",
        "Data columns (total 36 columns):\n",
        "id                    894555 non-null int64\n",
        "call_stat             27213 non-null object\n",
        "restrictions          894555 non-null object\n",
        "create_time           894555 non-null object\n",
        "client_id             894555 non-null int64\n",
        "queue                 878872 non-null object\n",
        "call_type             891831 non-null object\n",
        "relationship          877449 non-null object\n",
        "called_before         765259 non-null object\n",
        "how_hear              644881 non-null object\n",
        "have_ins              720137 non-null object\n",
        "ins_type              537178 non-null object\n",
        "hshld_disabled        815073 non-null object\n",
        "gender                893053 non-null object\n",
        "age_goups             734977 non-null object\n",
        "caller_age            3241 non-null float64\n",
        "preg_lt6              206600 non-null object\n",
        "child_lt6             572111 non-null float64\n",
        "ethnicity             638658 non-null object\n",
        "race                  689592 non-null object\n",
        "language              875452 non-null object\n",
        "hshld_size            765032 non-null float64\n",
        "hshld_size_code       121262 non-null object\n",
        "income_source         678474 non-null object\n",
        "hshld_income          874449 non-null float64\n",
        "hshld_pct_fpl         783141 non-null float64\n",
        "hshld_pct_fpl_code    960 non-null object\n",
        "income_declined       5098 non-null object\n",
        "zip                   893471 non-null float64\n",
        "zip_code              29 non-null object\n",
        "need_tax_code         762479 non-null object\n",
        "need_tax_cat          762479 non-null object\n",
        "need_unmet            762479 non-null object\n",
        "need_reason_unmet     17391 non-null object\n",
        "ref_agency            763210 non-null object\n",
        "ref_name              763277 non-null object\n",
        "dtypes: float64(6), int64(2), object(28)"
       ]
      }
     ],
     "prompt_number": 226
    },
    {
     "cell_type": "markdown",
     "metadata": {},
     "source": [
      "Almost 900k records."
     ]
    },
    {
     "cell_type": "code",
     "collapsed": false,
     "input": [
      "#id column is redundant. \n",
      "df = df.drop('id', 1)"
     ],
     "language": "python",
     "metadata": {},
     "outputs": [],
     "prompt_number": 227
    },
    {
     "cell_type": "markdown",
     "metadata": {},
     "source": [
      "##The Duplicate Situation (same client_id)"
     ]
    },
    {
     "cell_type": "markdown",
     "metadata": {},
     "source": [
      "But are they all unique callers? \n",
      "\n",
      "Below you can see the caller_id in the first column and the number of calls in the second."
     ]
    },
    {
     "cell_type": "code",
     "collapsed": false,
     "input": [
      "df.client_id.value_counts()"
     ],
     "language": "python",
     "metadata": {},
     "outputs": [
      {
       "metadata": {},
       "output_type": "pyout",
       "prompt_number": 228,
       "text": [
        "15321786    216\n",
        "16056720    192\n",
        "16036451    180\n",
        "17072765    180\n",
        "16648348    168\n",
        "15783286    150\n",
        "15685628    150\n",
        "16851054    150\n",
        "16110177    144\n",
        "15974764    144\n",
        "14433974    136\n",
        "17319012    135\n",
        "13614118    130\n",
        "16917545    128\n",
        "17037815    124\n",
        "...\n",
        "16430664    1\n",
        "16397912    1\n",
        "14296666    1\n",
        "14298715    1\n",
        "13340271    1\n",
        "16475762    1\n",
        "14478979    1\n",
        "13469358    1\n",
        "15548089    1\n",
        "15605469    1\n",
        "14677728    1\n",
        "14655213    1\n",
        "15695601    1\n",
        "15787778    1\n",
        "15532192    1\n",
        "Length: 215563, dtype: int64"
       ]
      }
     ],
     "prompt_number": 228
    },
    {
     "cell_type": "markdown",
     "metadata": {},
     "source": [
      "- Several instances of +100 calls from same id... could these originate at call centers / offices?\n",
      "- Notice that the length is 215k for unique client_ids (out of 890k records). \n",
      "    - This means only 25% of data set are unique caller_ids."
     ]
    },
    {
     "cell_type": "markdown",
     "metadata": {},
     "source": [
      "### Duplicate or not?\n",
      "Let's explore the top hit, and see what his/her +200 calls are about."
     ]
    },
    {
     "cell_type": "code",
     "collapsed": false,
     "input": [
      "df[df.client_id==15321786].create_time.value_counts()"
     ],
     "language": "python",
     "metadata": {},
     "outputs": [
      {
       "metadata": {},
       "output_type": "pyout",
       "prompt_number": 229,
       "text": [
        "01/15/2014 13:49:22.662068 PST    216\n",
        "dtype: int64"
       ]
      }
     ],
     "prompt_number": 229
    },
    {
     "cell_type": "markdown",
     "metadata": {},
     "source": [
      "216 calls placed at the exact same time. What's going on here? \n",
      "\n",
      "For this client_id, which columns share the same value? T= All Equal, F= Not All Equal"
     ]
    },
    {
     "cell_type": "code",
     "collapsed": false,
     "input": [
      "x=df[df.client_id==15321786].T.dropna()\n",
      "x.eq(x.iloc[:, 0], axis=0).all(1)"
     ],
     "language": "python",
     "metadata": {},
     "outputs": [
      {
       "metadata": {},
       "output_type": "pyout",
       "prompt_number": 230,
       "text": [
        "restrictions       True\n",
        "create_time        True\n",
        "client_id          True\n",
        "queue              True\n",
        "call_type          True\n",
        "relationship       True\n",
        "called_before      True\n",
        "have_ins           True\n",
        "ins_type           True\n",
        "hshld_disabled     True\n",
        "gender             True\n",
        "age_goups          True\n",
        "child_lt6          True\n",
        "ethnicity          True\n",
        "race               True\n",
        "language           True\n",
        "hshld_size         True\n",
        "income_source     False\n",
        "hshld_income       True\n",
        "hshld_pct_fpl      True\n",
        "zip                True\n",
        "need_tax_code     False\n",
        "need_tax_cat      False\n",
        "need_unmet         True\n",
        "ref_agency        False\n",
        "ref_name          False\n",
        "dtype: bool"
       ]
      }
     ],
     "prompt_number": 230
    },
    {
     "cell_type": "markdown",
     "metadata": {},
     "source": [
      "Same for all except income_source, reason for call (need_tax_code), and refering agency.\n",
      "\n",
      "### Different reason for calling?"
     ]
    },
    {
     "cell_type": "code",
     "collapsed": false,
     "input": [
      "df[df.client_id==15321786].need_tax_cat.value_counts()"
     ],
     "language": "python",
     "metadata": {},
     "outputs": [
      {
       "metadata": {},
       "output_type": "pyout",
       "prompt_number": 231,
       "text": [
        "Low Income/Subsidized Rental Housing               72\n",
        "Housing Search and Information                     72\n",
        "Subsidized Housing Administrative Organizations    72\n",
        "dtype: int64"
       ]
      }
     ],
     "prompt_number": 231
    },
    {
     "cell_type": "markdown",
     "metadata": {},
     "source": [
      "Above we can see that the need is housing related. How about the income?"
     ]
    },
    {
     "cell_type": "code",
     "collapsed": false,
     "input": [
      "df[df.client_id==15321786].income_source.value_counts()"
     ],
     "language": "python",
     "metadata": {},
     "outputs": [
      {
       "metadata": {},
       "output_type": "pyout",
       "prompt_number": 232,
       "text": [
        "No Income                                      12\n",
        "Employment                                     12\n",
        "Workers Compensation                           12\n",
        "Unemployment Benefits                          12\n",
        "General Relief                                 12\n",
        "Child Support                                  12\n",
        "Social Secuirty Retirement (SSA)               12\n",
        "Private Disability Insurance                   12\n",
        "Pension from Employment                        12\n",
        "State Disability Insurance (SDI)               12\n",
        "Social Security Disability Insurance (SSDI)    12\n",
        "CalWorks (TANF)                                12\n",
        "Military/Retiree Pension                       12\n",
        "Veterans Disability Compensation Insurance     12\n",
        "Other                                          12\n",
        "Supplemental Security Income (SSI)             12\n",
        "Spousal Support                                12\n",
        "Alimony                                        12\n",
        "dtype: int64"
       ]
      }
     ],
     "prompt_number": 232
    },
    {
     "cell_type": "markdown",
     "metadata": {},
     "source": [
      "Is this client_id a logging error? The income is 12 instances of different categories.\n",
      "\n",
      "###Let's look at another client_id. \n",
      "\n",
      "T = all values are equal. F = not all values are equal."
     ]
    },
    {
     "cell_type": "code",
     "collapsed": false,
     "input": [
      "x=df[df.client_id==15783286].T.dropna()\n",
      "x.eq(x.iloc[:, 0], axis=0).all(1)"
     ],
     "language": "python",
     "metadata": {},
     "outputs": [
      {
       "metadata": {},
       "output_type": "pyout",
       "prompt_number": 233,
       "text": [
        "restrictions       True\n",
        "create_time        True\n",
        "client_id          True\n",
        "queue              True\n",
        "call_type          True\n",
        "relationship       True\n",
        "called_before      True\n",
        "how_hear           True\n",
        "have_ins           True\n",
        "ins_type          False\n",
        "hshld_disabled     True\n",
        "gender             True\n",
        "age_goups          True\n",
        "child_lt6          True\n",
        "ethnicity          True\n",
        "race               True\n",
        "language           True\n",
        "hshld_size         True\n",
        "income_source     False\n",
        "hshld_income       True\n",
        "hshld_pct_fpl      True\n",
        "zip                True\n",
        "need_tax_code     False\n",
        "need_tax_cat      False\n",
        "need_unmet         True\n",
        "ref_agency        False\n",
        "ref_name          False\n",
        "dtype: bool"
       ]
      }
     ],
     "prompt_number": 233
    },
    {
     "cell_type": "code",
     "collapsed": false,
     "input": [
      "df[df.client_id==15783286].need_tax_cat.value_counts()"
     ],
     "language": "python",
     "metadata": {},
     "outputs": [
      {
       "metadata": {},
       "output_type": "pyout",
       "prompt_number": 234,
       "text": [
        "Commodity Supplemental Food Program     30\n",
        "Occasional Emergency Food Assistance    30\n",
        "Formula/Baby Food                       30\n",
        "Food Stamps/SNAP Applications           30\n",
        "Ongoing Emergency Food Assistance       30\n",
        "dtype: int64"
       ]
      }
     ],
     "prompt_number": 234
    },
    {
     "cell_type": "markdown",
     "metadata": {},
     "source": [
      "Needs: Food related."
     ]
    },
    {
     "cell_type": "markdown",
     "metadata": {},
     "source": [
      "After looking at two clients it seems that duplicate caller_ids have same records and time of call. \n",
      "\n",
      "The need_tax_cat may be different but the need is the same.\n",
      "\n",
      "### Dropping Duplicated Records"
     ]
    },
    {
     "cell_type": "code",
     "collapsed": false,
     "input": [
      "print 100*df.duplicated(cols=('client_id')).sum()/len(df),\"%\""
     ],
     "language": "python",
     "metadata": {},
     "outputs": [
      {
       "output_type": "stream",
       "stream": "stdout",
       "text": [
        "75 %\n"
       ]
      }
     ],
     "prompt_number": 235
    },
    {
     "cell_type": "markdown",
     "metadata": {},
     "source": [
      "Again, it looks like 75% of the dataset consists of records that have the same client_id. \n",
      "\n",
      "We could drop the duplicates, but it seems that those are way too many. "
     ]
    },
    {
     "cell_type": "code",
     "collapsed": false,
     "input": [
      "df=df.drop_duplicates(cols=('client_id') , take_last=False, inplace=False)"
     ],
     "language": "python",
     "metadata": {},
     "outputs": [],
     "prompt_number": 236
    },
    {
     "cell_type": "code",
     "collapsed": false,
     "input": [
      "len(df)"
     ],
     "language": "python",
     "metadata": {},
     "outputs": [
      {
       "metadata": {},
       "output_type": "pyout",
       "prompt_number": 237,
       "text": [
        "215563"
       ]
      }
     ],
     "prompt_number": 237
    },
    {
     "cell_type": "markdown",
     "metadata": {},
     "source": [
      "The new data set now has 215K records now."
     ]
    },
    {
     "cell_type": "markdown",
     "metadata": {},
     "source": [
      "#Type of Call"
     ]
    },
    {
     "cell_type": "code",
     "collapsed": false,
     "input": [
      "print \"Completed Call    \", df.call_stat.isnull().sum()\n",
      "print df.call_stat.value_counts()"
     ],
     "language": "python",
     "metadata": {},
     "outputs": [
      {
       "output_type": "stream",
       "stream": "stdout",
       "text": [
        "Completed Call     199714\n",
        "Disconnected Call    9059\n",
        "Dropped Call         6327\n",
        "Training Call         463\n",
        "dtype: int64\n"
       ]
      }
     ],
     "prompt_number": 238
    },
    {
     "cell_type": "markdown",
     "metadata": {},
     "source": [
      "#Time"
     ]
    },
    {
     "cell_type": "code",
     "collapsed": false,
     "input": [
      "from datetime import datetime\n",
      "def string_to_date(date_string):\n",
      "    return datetime.strptime(date_string, \"%m/%d/%Y %H:%M:%S.%f %Z\")\n",
      "\n",
      "# Run the function on every date string and overwrite the column\n",
      "df.create_time = df.create_time.apply(string_to_date)\n",
      "df.create_time.head()"
     ],
     "language": "python",
     "metadata": {},
     "outputs": [
      {
       "metadata": {},
       "output_type": "pyout",
       "prompt_number": 239,
       "text": [
        "0   2013-07-01 00:03:30.574510\n",
        "4   2013-07-01 00:06:18.147102\n",
        "5   2013-07-01 01:54:12.340081\n",
        "6   2013-07-01 01:59:42.833011\n",
        "8   2013-07-01 02:54:11.719348\n",
        "Name: create_time, dtype: datetime64[ns]"
       ]
      }
     ],
     "prompt_number": 239
    },
    {
     "cell_type": "code",
     "collapsed": false,
     "input": [
      "df[\"date\"] = df.create_time.apply(lambda d : d.date())\n",
      "call_volume_per_date = df.groupby(['date']).size()\n",
      "\n",
      "df[\"day\"] = df.create_time.apply(lambda d : d.day)\n",
      "call_volume_per_day = df.groupby(['day']).size()\n",
      "\n",
      "df[\"week\"] = df.create_time.apply(lambda d : d.week)\n",
      "call_volume_per_week = df.groupby(['week']).size()\n",
      "\n",
      "df[\"weekday\"] = df.create_time.apply(lambda d : d.weekday())\n",
      "call_volume_per_weekday = df.groupby(['weekday']).size()\n",
      "\n",
      "df[\"month\"] = df.create_time.apply(lambda d : d.month)\n",
      "call_volume_per_month = df.groupby(['month']).size()\n",
      "\n",
      "df[\"hour\"] = df.create_time.apply(lambda d : d.hour)\n",
      "call_volume_per_hour = df.groupby(['hour']).size()"
     ],
     "language": "python",
     "metadata": {},
     "outputs": [],
     "prompt_number": 311
    },
    {
     "cell_type": "code",
     "collapsed": false,
     "input": [
      "call_volume_per_month.plot(kind='bar')"
     ],
     "language": "python",
     "metadata": {},
     "outputs": [
      {
       "metadata": {},
       "output_type": "pyout",
       "prompt_number": 336,
       "text": [
        "<matplotlib.axes.AxesSubplot at 0x123b51e10>"
       ]
      },
      {
       "metadata": {},
       "output_type": "display_data",
       "png": "[encoded data removed]",
       "text": [
        "<matplotlib.figure.Figure at 0x123b54f90>"
       ]
      }
     ],
     "prompt_number": 336
    },
    {
     "cell_type": "code",
     "collapsed": false,
     "input": [
      "call_volume_per_week.plot(kind='bar')"
     ],
     "language": "python",
     "metadata": {},
     "outputs": [
      {
       "metadata": {},
       "output_type": "pyout",
       "prompt_number": 337,
       "text": [
        "<matplotlib.axes.AxesSubplot at 0x11c7d1a50>"
       ]
      },
      {
       "metadata": {},
       "output_type": "display_data",
       "png": "[encoded data removed]",
       "text": [
        "<matplotlib.figure.Figure at 0x11c926e10>"
       ]
      }
     ],
     "prompt_number": 337
    },
    {
     "cell_type": "code",
     "collapsed": false,
     "input": [
      "call_volume_per_weekday.plot(kind='bar')"
     ],
     "language": "python",
     "metadata": {},
     "outputs": [
      {
       "metadata": {},
       "output_type": "pyout",
       "prompt_number": 338,
       "text": [
        "<matplotlib.axes.AxesSubplot at 0x1211615d0>"
       ]
      },
      {
       "metadata": {},
       "output_type": "display_data",
       "png": "[encoded data removed]",
       "text": [
        "<matplotlib.figure.Figure at 0x11aaa1990>"
       ]
      }
     ],
     "prompt_number": 338
    },
    {
     "cell_type": "code",
     "collapsed": false,
     "input": [
      "call_volume_per_day.plot(kind='bar')"
     ],
     "language": "python",
     "metadata": {},
     "outputs": [
      {
       "metadata": {},
       "output_type": "pyout",
       "prompt_number": 339,
       "text": [
        "<matplotlib.axes.AxesSubplot at 0x1218d7050>"
       ]
      },
      {
       "metadata": {},
       "output_type": "display_data",
       "png": "[encoded data removed]",
       "text": [
        "<matplotlib.figure.Figure at 0x12208b690>"
       ]
      }
     ],
     "prompt_number": 339
    },
    {
     "cell_type": "code",
     "collapsed": false,
     "input": [
      "call_volume_per_hour.plot(kind='bar')"
     ],
     "language": "python",
     "metadata": {},
     "outputs": [
      {
       "metadata": {},
       "output_type": "pyout",
       "prompt_number": 340,
       "text": [
        "<matplotlib.axes.AxesSubplot at 0x120aa2a50>"
       ]
      },
      {
       "metadata": {},
       "output_type": "display_data",
       "png": "[encoded data removed]",
       "text": [
        "<matplotlib.figure.Figure at 0x121a09a90>"
       ]
      }
     ],
     "prompt_number": 340
    },
    {
     "cell_type": "markdown",
     "metadata": {},
     "source": [
      "### Hourly Call Volume"
     ]
    },
    {
     "cell_type": "code",
     "collapsed": false,
     "input": [
      "weekday_v_hour = df[[\"weekday\", \"hour\"]].groupby([\"weekday\",\"hour\"]).size().unstack(level=1).fillna(0)\n",
      "\n",
      "plt.pcolor(weekday_v_hour, cmap='Blues')\n",
      "plt.yticks(np.arange(0, len(weekday_v_hour.index), 1), weekday_v_hour.index)\n",
      "plt.xticks(np.arange(0, len(weekday_v_hour.columns), 1), weekday_v_hour.columns)\n",
      "plt.title(\"Call Volume\")\n",
      "plt.xlabel(\"Hour of day\")\n",
      "plt.ylabel(\"Day of the week\")\n",
      "plt.show()\n"
     ],
     "language": "python",
     "metadata": {},
     "outputs": [
      {
       "metadata": {},
       "output_type": "display_data",
       "png": "[encoded data removed]",
       "text": [
        "<matplotlib.figure.Figure at 0x126be3590>"
       ]
      }
     ],
     "prompt_number": 334
    },
    {
     "cell_type": "code",
     "collapsed": false,
     "input": [],
     "language": "python",
     "metadata": {},
     "outputs": []
    }
   ],
   "metadata": {}
  }
 ]
}