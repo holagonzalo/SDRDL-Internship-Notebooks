{
 "metadata": {
  "name": "",
  "signature": "sha256:ac0be62e73e40ec6a703524689b777de3f00c0c8030c4ca590b48d7ab624dedd"
 },
 "nbformat": 3,
 "nbformat_minor": 0,
 "worksheets": [
  {
   "cells": [
    {
     "cell_type": "markdown",
     "metadata": {},
     "source": [
      "#211 Data Exploration"
     ]
    },
    {
     "cell_type": "markdown",
     "metadata": {},
     "source": [
      "See the [data manifest documentation]( http://devtest.sandiegodata.org.s3.amazonaws.com/manifests/fc22cee6-acfa-4236-a6cb-e0d887eba178/documentation.html) for details about the dataset. The [data schema](http://devtest.sandiegodata.org.s3.amazonaws.com/manifests/fc22cee6-acfa-4236-a6cb-e0d887eba178/p02J001002.html) is most valueable. "
     ]
    },
    {
     "cell_type": "code",
     "collapsed": false,
     "input": [
      "%matplotlib inline\n",
      "import numpy as np\n",
      "import pandas as pd\n",
      "import matplotlib.pyplot as plt\n",
      "pd.options.display.max_columns = 50\n",
      "# You'll probably need to run 'sudo pip install sdipylib' for this to work\n",
      "from  sdipylib.url import cache_url\n",
      "\n",
      "pd.__version__"
     ],
     "language": "python",
     "metadata": {},
     "outputs": []
    },
    {
     "cell_type": "code",
     "collapsed": false,
     "input": [
      "# cache_url will download the URL and store it in a local file, but when it is called a second time, it uses the\n",
      "# downloaded file. You'll have to delete the file externally to get an update. \n",
      "fn = cache_url('http://devtest.sandiegodata.org.s3.amazonaws.com/manifests/fc22cee6-acfa-4236-a6cb-e0d887eba178/211_service_calls.csv')\n",
      "print fn\n",
      "\n",
      "# Read_csv guesses that some columns are numbers, and complains when a string appears, so we have to be \n",
      "# explicit about the datatyps of these columns. \n",
      "df = pd.read_csv(fn,dtype =  {16: str, 26: str, 27: str, 29: str})"
     ],
     "language": "python",
     "metadata": {},
     "outputs": []
    },
    {
     "cell_type": "markdown",
     "metadata": {},
     "source": [
      "###Quick glimpse of the dataset"
     ]
    },
    {
     "cell_type": "code",
     "collapsed": false,
     "input": [
      "df.head(3)"
     ],
     "language": "python",
     "metadata": {},
     "outputs": [
      {
       "html": [
        "<div style=\"max-height:1000px;max-width:1500px;overflow:auto;\">\n",
        "<table border=\"1\" class=\"dataframe\">\n",
        "  <thead>\n",
        "    <tr style=\"text-align: right;\">\n",
        "      <th></th>\n",
        "      <th>id</th>\n",
        "      <th>call_stat</th>\n",
        "      <th>restrictions</th>\n",
        "      <th>create_time</th>\n",
        "      <th>client_id</th>\n",
        "      <th>queue</th>\n",
        "      <th>call_type</th>\n",
        "      <th>relationship</th>\n",
        "      <th>called_before</th>\n",
        "      <th>how_hear</th>\n",
        "      <th>have_ins</th>\n",
        "      <th>ins_type</th>\n",
        "      <th>hshld_disabled</th>\n",
        "      <th>gender</th>\n",
        "      <th>age_goups</th>\n",
        "      <th>caller_age</th>\n",
        "      <th>preg_lt6</th>\n",
        "      <th>child_lt6</th>\n",
        "      <th>ethnicity</th>\n",
        "      <th>race</th>\n",
        "      <th>language</th>\n",
        "      <th>hshld_size</th>\n",
        "      <th>hshld_size_code</th>\n",
        "      <th>income_source</th>\n",
        "      <th>hshld_income</th>\n",
        "      <th>hshld_pct_fpl</th>\n",
        "      <th>hshld_pct_fpl_code</th>\n",
        "      <th>income_declined</th>\n",
        "      <th>zip</th>\n",
        "      <th>zip_code</th>\n",
        "      <th>need_tax_code</th>\n",
        "      <th>need_tax_cat</th>\n",
        "      <th>need_unmet</th>\n",
        "      <th>need_reason_unmet</th>\n",
        "      <th>ref_agency</th>\n",
        "      <th>ref_name</th>\n",
        "    </tr>\n",
        "  </thead>\n",
        "  <tbody>\n",
        "    <tr>\n",
        "      <th>0</th>\n",
        "      <td> 1</td>\n",
        "      <td> NaN</td>\n",
        "      <td> 211 San Diego</td>\n",
        "      <td> 07/01/2013 00:03:30.57451 PDT</td>\n",
        "      <td> 13110365</td>\n",
        "      <td> General</td>\n",
        "      <td> Assessment and Referral</td>\n",
        "      <td> Self</td>\n",
        "      <td> No</td>\n",
        "      <td> Other</td>\n",
        "      <td> Yes</td>\n",
        "      <td> Medi-Cal</td>\n",
        "      <td> No</td>\n",
        "      <td> Female</td>\n",
        "      <td> NaN</td>\n",
        "      <td>NaN</td>\n",
        "      <td> NaN</td>\n",
        "      <td> 0</td>\n",
        "      <td> NaN</td>\n",
        "      <td> NaN</td>\n",
        "      <td> English</td>\n",
        "      <td> 3</td>\n",
        "      <td> NaN</td>\n",
        "      <td> NaN</td>\n",
        "      <td>NaN</td>\n",
        "      <td>NaN</td>\n",
        "      <td> NaN</td>\n",
        "      <td> NaN</td>\n",
        "      <td> 92277</td>\n",
        "      <td> NaN</td>\n",
        "      <td> BH-3900</td>\n",
        "      <td> Housing Search and Information</td>\n",
        "      <td> f</td>\n",
        "      <td> NaN</td>\n",
        "      <td> San Diego Housing Commission</td>\n",
        "      <td> City of San Diego Affordable Housing Informati...</td>\n",
        "    </tr>\n",
        "    <tr>\n",
        "      <th>1</th>\n",
        "      <td> 2</td>\n",
        "      <td> NaN</td>\n",
        "      <td> 211 San Diego</td>\n",
        "      <td> 07/01/2013 00:03:30.57451 PDT</td>\n",
        "      <td> 13110365</td>\n",
        "      <td> General</td>\n",
        "      <td> Assessment and Referral</td>\n",
        "      <td> Self</td>\n",
        "      <td> No</td>\n",
        "      <td> Other</td>\n",
        "      <td> Yes</td>\n",
        "      <td> Medi-Cal</td>\n",
        "      <td> No</td>\n",
        "      <td> Female</td>\n",
        "      <td> NaN</td>\n",
        "      <td>NaN</td>\n",
        "      <td> NaN</td>\n",
        "      <td> 0</td>\n",
        "      <td> NaN</td>\n",
        "      <td> NaN</td>\n",
        "      <td> English</td>\n",
        "      <td> 3</td>\n",
        "      <td> NaN</td>\n",
        "      <td> NaN</td>\n",
        "      <td>NaN</td>\n",
        "      <td>NaN</td>\n",
        "      <td> NaN</td>\n",
        "      <td> NaN</td>\n",
        "      <td> 92277</td>\n",
        "      <td> NaN</td>\n",
        "      <td> BH-8600</td>\n",
        "      <td>   Transitional Housing/Shelter</td>\n",
        "      <td> f</td>\n",
        "      <td> NaN</td>\n",
        "      <td> San Diego Housing Commission</td>\n",
        "      <td> City of San Diego Affordable Housing Informati...</td>\n",
        "    </tr>\n",
        "    <tr>\n",
        "      <th>2</th>\n",
        "      <td> 3</td>\n",
        "      <td> NaN</td>\n",
        "      <td> 211 San Diego</td>\n",
        "      <td> 07/01/2013 00:03:30.57451 PDT</td>\n",
        "      <td> 13110365</td>\n",
        "      <td> General</td>\n",
        "      <td> Assessment and Referral</td>\n",
        "      <td> Self</td>\n",
        "      <td> No</td>\n",
        "      <td> Other</td>\n",
        "      <td> Yes</td>\n",
        "      <td> Medi-Cal</td>\n",
        "      <td> No</td>\n",
        "      <td> Female</td>\n",
        "      <td> NaN</td>\n",
        "      <td>NaN</td>\n",
        "      <td> NaN</td>\n",
        "      <td> 0</td>\n",
        "      <td> NaN</td>\n",
        "      <td> NaN</td>\n",
        "      <td> English</td>\n",
        "      <td> 3</td>\n",
        "      <td> NaN</td>\n",
        "      <td> NaN</td>\n",
        "      <td>NaN</td>\n",
        "      <td>NaN</td>\n",
        "      <td> NaN</td>\n",
        "      <td> NaN</td>\n",
        "      <td> 92277</td>\n",
        "      <td> NaN</td>\n",
        "      <td> BH-3900</td>\n",
        "      <td> Housing Search and Information</td>\n",
        "      <td> f</td>\n",
        "      <td> NaN</td>\n",
        "      <td>     YWCA of San Diego County</td>\n",
        "      <td>     Cortez Hill Shelter, YWCA of San Diego County</td>\n",
        "    </tr>\n",
        "  </tbody>\n",
        "</table>\n",
        "<p>3 rows \u00d7 36 columns</p>\n",
        "</div>"
       ],
       "metadata": {},
       "output_type": "pyout",
       "prompt_number": 109,
       "text": [
        "   id call_stat   restrictions                    create_time  client_id  \\\n",
        "0   1       NaN  211 San Diego  07/01/2013 00:03:30.57451 PDT   13110365   \n",
        "1   2       NaN  211 San Diego  07/01/2013 00:03:30.57451 PDT   13110365   \n",
        "2   3       NaN  211 San Diego  07/01/2013 00:03:30.57451 PDT   13110365   \n",
        "\n",
        "     queue                call_type relationship called_before how_hear  \\\n",
        "0  General  Assessment and Referral         Self            No    Other   \n",
        "1  General  Assessment and Referral         Self            No    Other   \n",
        "2  General  Assessment and Referral         Self            No    Other   \n",
        "\n",
        "  have_ins  ins_type hshld_disabled  gender age_goups  caller_age preg_lt6  \\\n",
        "0      Yes  Medi-Cal             No  Female       NaN         NaN      NaN   \n",
        "1      Yes  Medi-Cal             No  Female       NaN         NaN      NaN   \n",
        "2      Yes  Medi-Cal             No  Female       NaN         NaN      NaN   \n",
        "\n",
        "   child_lt6 ethnicity race language  hshld_size hshld_size_code  \\\n",
        "0          0       NaN  NaN  English           3             NaN   \n",
        "1          0       NaN  NaN  English           3             NaN   \n",
        "2          0       NaN  NaN  English           3             NaN   \n",
        "\n",
        "  income_source  hshld_income  hshld_pct_fpl hshld_pct_fpl_code  \\\n",
        "0           NaN           NaN            NaN                NaN   \n",
        "1           NaN           NaN            NaN                NaN   \n",
        "2           NaN           NaN            NaN                NaN   \n",
        "\n",
        "  income_declined    zip zip_code need_tax_code  \\\n",
        "0             NaN  92277      NaN       BH-3900   \n",
        "1             NaN  92277      NaN       BH-8600   \n",
        "2             NaN  92277      NaN       BH-3900   \n",
        "\n",
        "                     need_tax_cat need_unmet need_reason_unmet  \\\n",
        "0  Housing Search and Information          f               NaN   \n",
        "1    Transitional Housing/Shelter          f               NaN   \n",
        "2  Housing Search and Information          f               NaN   \n",
        "\n",
        "                     ref_agency  \\\n",
        "0  San Diego Housing Commission   \n",
        "1  San Diego Housing Commission   \n",
        "2      YWCA of San Diego County   \n",
        "\n",
        "                                            ref_name  \n",
        "0  City of San Diego Affordable Housing Informati...  \n",
        "1  City of San Diego Affordable Housing Informati...  \n",
        "2      Cortez Hill Shelter, YWCA of San Diego County  \n",
        "\n",
        "[3 rows x 36 columns]"
       ]
      }
     ],
     "prompt_number": 109
    },
    {
     "cell_type": "code",
     "collapsed": false,
     "input": [
      "df.info()\n"
     ],
     "language": "python",
     "metadata": {},
     "outputs": []
    },
    {
     "cell_type": "markdown",
     "metadata": {},
     "source": [
      "Almost 900k records."
     ]
    },
    {
     "cell_type": "code",
     "collapsed": false,
     "input": [
      "#id column is redundant. \n",
      "df = df.drop('id', 1)"
     ],
     "language": "python",
     "metadata": {},
     "outputs": []
    },
    {
     "cell_type": "markdown",
     "metadata": {},
     "source": [
      "###The Duplicate Situation (same call_id)"
     ]
    },
    {
     "cell_type": "markdown",
     "metadata": {},
     "source": [
      "But are they all unique callers? Below you can see the caller_id in the first column and the number of calls in the second."
     ]
    },
    {
     "cell_type": "code",
     "collapsed": false,
     "input": [
      "df.client_id.value_counts()"
     ],
     "language": "python",
     "metadata": {},
     "outputs": [
      {
       "metadata": {},
       "output_type": "pyout",
       "prompt_number": 114,
       "text": [
        "15321786    216\n",
        "16056720    192\n",
        "16036451    180\n",
        "17072765    180\n",
        "16648348    168\n",
        "15783286    150\n",
        "15685628    150\n",
        "16851054    150\n",
        "16110177    144\n",
        "15974764    144\n",
        "14433974    136\n",
        "17319012    135\n",
        "13614118    130\n",
        "16917545    128\n",
        "17037815    124\n",
        "...\n",
        "16430664    1\n",
        "16397912    1\n",
        "14296666    1\n",
        "14298715    1\n",
        "13340271    1\n",
        "16475762    1\n",
        "14478979    1\n",
        "13469358    1\n",
        "15548089    1\n",
        "15605469    1\n",
        "14677728    1\n",
        "14655213    1\n",
        "15695601    1\n",
        "15787778    1\n",
        "15532192    1\n",
        "Length: 215563, dtype: int64"
       ]
      }
     ],
     "prompt_number": 114
    },
    {
     "cell_type": "markdown",
     "metadata": {},
     "source": [
      "- +100 calls from same id... Could these be call centers / offices?\n",
      "- Notice that the length is 215k for unique client_ids (out of 890k records). \n",
      "    - This means only 25% of data set are unique caller_ids."
     ]
    },
    {
     "cell_type": "markdown",
     "metadata": {},
     "source": [
      "Let's explore the top hit, and see what his/her +200 calls are about."
     ]
    },
    {
     "cell_type": "code",
     "collapsed": false,
     "input": [
      "df[df.client_id==15321786].create_time.value_counts()"
     ],
     "language": "python",
     "metadata": {},
     "outputs": [
      {
       "metadata": {},
       "output_type": "pyout",
       "prompt_number": 152,
       "text": [
        "01/15/2014 13:49:22.662068 PST    216\n",
        "dtype: int64"
       ]
      }
     ],
     "prompt_number": 152
    },
    {
     "cell_type": "markdown",
     "metadata": {},
     "source": [
      "216 calls placed at the exact same time. What's going on here? Which columns share the same value? T= All Equal, F= Not All Equal"
     ]
    },
    {
     "cell_type": "code",
     "collapsed": false,
     "input": [
      "x=df[df.client_id==15321786].T.dropna()\n",
      "x.eq(x.iloc[:, 0], axis=0).all(1)"
     ],
     "language": "python",
     "metadata": {},
     "outputs": [
      {
       "metadata": {},
       "output_type": "pyout",
       "prompt_number": 149,
       "text": [
        "restrictions       True\n",
        "create_time        True\n",
        "client_id          True\n",
        "queue              True\n",
        "call_type          True\n",
        "relationship       True\n",
        "called_before      True\n",
        "have_ins           True\n",
        "ins_type           True\n",
        "hshld_disabled     True\n",
        "gender             True\n",
        "age_goups          True\n",
        "child_lt6          True\n",
        "ethnicity          True\n",
        "race               True\n",
        "language           True\n",
        "hshld_size         True\n",
        "income_source     False\n",
        "hshld_income       True\n",
        "hshld_pct_fpl      True\n",
        "zip                True\n",
        "need_tax_code     False\n",
        "need_tax_cat      False\n",
        "need_unmet         True\n",
        "ref_agency        False\n",
        "ref_name          False\n",
        "dtype: bool"
       ]
      }
     ],
     "prompt_number": 149
    },
    {
     "cell_type": "markdown",
     "metadata": {},
     "source": [
      "Same for all except income_source, reason for call (need_tax_code), and refering agency."
     ]
    },
    {
     "cell_type": "code",
     "collapsed": false,
     "input": [
      "df[df.client_id==15321786].need_tax_cat.value_counts()"
     ],
     "language": "python",
     "metadata": {},
     "outputs": [
      {
       "metadata": {},
       "output_type": "pyout",
       "prompt_number": 145,
       "text": [
        "Low Income/Subsidized Rental Housing               72\n",
        "Housing Search and Information                     72\n",
        "Subsidized Housing Administrative Organizations    72\n",
        "dtype: int64"
       ]
      }
     ],
     "prompt_number": 145
    },
    {
     "cell_type": "markdown",
     "metadata": {},
     "source": [
      "Below we can see that there the need is housing."
     ]
    },
    {
     "cell_type": "code",
     "collapsed": false,
     "input": [
      "df[df.client_id==15321786].income_source.value_counts()"
     ],
     "language": "python",
     "metadata": {},
     "outputs": [
      {
       "metadata": {},
       "output_type": "pyout",
       "prompt_number": 146,
       "text": [
        "No Income                                      12\n",
        "Employment                                     12\n",
        "Workers Compensation                           12\n",
        "Unemployment Benefits                          12\n",
        "General Relief                                 12\n",
        "Child Support                                  12\n",
        "Social Secuirty Retirement (SSA)               12\n",
        "Private Disability Insurance                   12\n",
        "Pension from Employment                        12\n",
        "State Disability Insurance (SDI)               12\n",
        "Social Security Disability Insurance (SSDI)    12\n",
        "CalWorks (TANF)                                12\n",
        "Military/Retiree Pension                       12\n",
        "Veterans Disability Compensation Insurance     12\n",
        "Other                                          12\n",
        "Supplemental Security Income (SSI)             12\n",
        "Spousal Support                                12\n",
        "Alimony                                        12\n",
        "dtype: int64"
       ]
      }
     ],
     "prompt_number": 146
    },
    {
     "cell_type": "markdown",
     "metadata": {},
     "source": [
      "Is this client_id a logging error? \n",
      "\n",
      "Let's look at another client_id. \n",
      "\n",
      "T = all values are equal. F = not all values are equal."
     ]
    },
    {
     "cell_type": "code",
     "collapsed": false,
     "input": [
      "x=df[df.client_id==15783286].T.dropna()\n",
      "x.eq(x.iloc[:, 0], axis=0).all(1)"
     ],
     "language": "python",
     "metadata": {},
     "outputs": [
      {
       "metadata": {},
       "output_type": "pyout",
       "prompt_number": 150,
       "text": [
        "restrictions       True\n",
        "create_time        True\n",
        "client_id          True\n",
        "queue              True\n",
        "call_type          True\n",
        "relationship       True\n",
        "called_before      True\n",
        "how_hear           True\n",
        "have_ins           True\n",
        "ins_type          False\n",
        "hshld_disabled     True\n",
        "gender             True\n",
        "age_goups          True\n",
        "child_lt6          True\n",
        "ethnicity          True\n",
        "race               True\n",
        "language           True\n",
        "hshld_size         True\n",
        "income_source     False\n",
        "hshld_income       True\n",
        "hshld_pct_fpl      True\n",
        "zip                True\n",
        "need_tax_code     False\n",
        "need_tax_cat      False\n",
        "need_unmet         True\n",
        "ref_agency        False\n",
        "ref_name          False\n",
        "dtype: bool"
       ]
      }
     ],
     "prompt_number": 150
    },
    {
     "cell_type": "code",
     "collapsed": false,
     "input": [
      "df[df.client_id==15783286].need_tax_cat.value_counts()"
     ],
     "language": "python",
     "metadata": {},
     "outputs": [
      {
       "metadata": {},
       "output_type": "pyout",
       "prompt_number": 151,
       "text": [
        "Commodity Supplemental Food Program     30\n",
        "Occasional Emergency Food Assistance    30\n",
        "Formula/Baby Food                       30\n",
        "Food Stamps/SNAP Applications           30\n",
        "Ongoing Emergency Food Assistance       30\n",
        "dtype: int64"
       ]
      }
     ],
     "prompt_number": 151
    },
    {
     "cell_type": "markdown",
     "metadata": {},
     "source": [
      "Needs: Food related."
     ]
    },
    {
     "cell_type": "markdown",
     "metadata": {},
     "source": [
      "After looking at two clients it seems that duplicate caller_ids have same records and time of call. \n",
      "\n",
      "The need_tax_cat may be different but the need is the same.\n",
      "\n",
      "### Dropping Duplicated Records"
     ]
    },
    {
     "cell_type": "code",
     "collapsed": false,
     "input": [
      "print 100*df.duplicated(cols=('client_id')).sum()/len(df),\"%\""
     ],
     "language": "python",
     "metadata": {},
     "outputs": [
      {
       "output_type": "stream",
       "stream": "stdout",
       "text": [
        "75 %\n"
       ]
      }
     ],
     "prompt_number": 154
    },
    {
     "cell_type": "markdown",
     "metadata": {},
     "source": [
      "Again, it looks like 75% of the dataset consists of records that have the same client_id. \n",
      "\n",
      "We could drop the duplicates, but it seems that those are way too many. "
     ]
    },
    {
     "cell_type": "code",
     "collapsed": false,
     "input": [
      "df=df.drop_duplicates(cols=('client_id') , take_last=False, inplace=False)"
     ],
     "language": "python",
     "metadata": {},
     "outputs": [],
     "prompt_number": 155
    },
    {
     "cell_type": "code",
     "collapsed": false,
     "input": [
      "len(df)"
     ],
     "language": "python",
     "metadata": {},
     "outputs": [
      {
       "metadata": {},
       "output_type": "pyout",
       "prompt_number": 156,
       "text": [
        "215563"
       ]
      }
     ],
     "prompt_number": 156
    },
    {
     "cell_type": "markdown",
     "metadata": {},
     "source": [
      "The new data set now has 215K records now."
     ]
    },
    {
     "cell_type": "code",
     "collapsed": false,
     "input": [],
     "language": "python",
     "metadata": {},
     "outputs": []
    },
    {
     "cell_type": "code",
     "collapsed": false,
     "input": [],
     "language": "python",
     "metadata": {},
     "outputs": []
    },
    {
     "cell_type": "code",
     "collapsed": false,
     "input": [],
     "language": "python",
     "metadata": {},
     "outputs": []
    },
    {
     "cell_type": "code",
     "collapsed": false,
     "input": [],
     "language": "python",
     "metadata": {},
     "outputs": []
    },
    {
     "cell_type": "code",
     "collapsed": false,
     "input": [],
     "language": "python",
     "metadata": {},
     "outputs": []
    },
    {
     "cell_type": "heading",
     "level": 1,
     "metadata": {},
     "source": [
      "Presenting Needs: Taxonomy Category"
     ]
    },
    {
     "cell_type": "code",
     "collapsed": false,
     "input": [
      "df.need_tax_cat.value_counts().head(10)"
     ],
     "language": "python",
     "metadata": {},
     "outputs": [
      {
       "metadata": {},
       "output_type": "pyout",
       "prompt_number": 157,
       "text": [
        "Electric Service Payment Assistance     17471\n",
        "Food Stamps/SNAP Applications            9338\n",
        "Specialized Information and Referral     9287\n",
        "Ongoing Emergency Food Assistance        5892\n",
        "Homeless Shelter                         4576\n",
        "Medicaid Applications                    4329\n",
        "Rent Payment Assistance                  3528\n",
        "Health Insurance Marketplaces            3332\n",
        "VITA Program Sites                       3097\n",
        "Housing Search and Information           3094\n",
        "dtype: int64"
       ]
      }
     ],
     "prompt_number": 157
    },
    {
     "cell_type": "heading",
     "level": 1,
     "metadata": {},
     "source": [
      "Zipcode"
     ]
    },
    {
     "cell_type": "code",
     "collapsed": false,
     "input": [
      "df.zip.value_counts().head(10)"
     ],
     "language": "python",
     "metadata": {},
     "outputs": [
      {
       "metadata": {},
       "output_type": "pyout",
       "prompt_number": 66,
       "text": [
        "0        30527\n",
        "92105     8815\n",
        "92101     8064\n",
        "91911     7223\n",
        "92113     7062\n",
        "92114     6810\n",
        "92020     6724\n",
        "91910     6488\n",
        "92021     5959\n",
        "92115     5497\n",
        "dtype: int64"
       ]
      }
     ],
     "prompt_number": 66
    },
    {
     "cell_type": "code",
     "collapsed": false,
     "input": [
      "ax=df.caller_age.hist(bins=20,range=(1,100)) \n",
      "ax.set_ylabel('Frequency')\n",
      "ax.set_xlabel('Age')"
     ],
     "language": "python",
     "metadata": {},
     "outputs": [
      {
       "metadata": {},
       "output_type": "pyout",
       "prompt_number": 67,
       "text": [
        "<matplotlib.text.Text at 0x10c664910>"
       ]
      },
      {
       "metadata": {},
       "output_type": "display_data",
       "png": "[encoded data removed]",
       "text": [
        "<matplotlib.figure.Figure at 0x1406c0bd0>"
       ]
      }
     ],
     "prompt_number": 67
    },
    {
     "cell_type": "code",
     "collapsed": false,
     "input": [],
     "language": "python",
     "metadata": {},
     "outputs": []
    }
   ],
   "metadata": {}
  }
 ]
}